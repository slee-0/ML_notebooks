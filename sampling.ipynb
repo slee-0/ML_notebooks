{
 "cells": [
  {
   "cell_type": "code",
   "execution_count": 1,
   "id": "e5f53e7c",
   "metadata": {},
   "outputs": [],
   "source": [
    "import numpy as np\n",
    "import pandas as pd\n",
    "import matplotlib.pyplot as plt"
   ]
  },
  {
   "cell_type": "code",
   "execution_count": 2,
   "id": "0f3d9d13",
   "metadata": {},
   "outputs": [],
   "source": [
    "n = 100\n",
    "N = 10000"
   ]
  },
  {
   "cell_type": "code",
   "execution_count": 3,
   "id": "de1aa675",
   "metadata": {},
   "outputs": [],
   "source": [
    "def sample():\n",
    "    arr = []\n",
    "    for i in range(10000):\n",
    "        # Choose a random number between 0 and 1, called randnum\n",
    "        randnum = np.random.random()\n",
    "        # If randnum < 100/10000, then we add i to the array; else, discard i\n",
    "        if randnum < 0.01:\n",
    "            arr.append(i)\n",
    "    return len(arr)"
   ]
  },
  {
   "cell_type": "code",
   "execution_count": 4,
   "id": "06c95f5d",
   "metadata": {},
   "outputs": [],
   "source": [
    "sizes = []\n",
    "for k in range(100):\n",
    "    sizes.append(sample())"
   ]
  },
  {
   "cell_type": "code",
   "execution_count": 5,
   "id": "f8983d34",
   "metadata": {},
   "outputs": [
    {
     "name": "stdout",
     "output_type": "stream",
     "text": [
      "[98, 100, 83, 82, 108, 92, 100, 105, 112, 91, 102, 85, 107, 99, 115, 102, 110, 82, 99, 93, 116, 92, 96, 114, 94, 88, 96, 93, 85, 91, 104, 93, 90, 85, 122, 89, 119, 107, 93, 103, 100, 94, 113, 82, 117, 105, 105, 101, 103, 95, 103, 104, 113, 75, 82, 114, 69, 97, 99, 104, 94, 104, 90, 107, 93, 103, 96, 102, 104, 98, 110, 97, 85, 108, 101, 92, 91, 115, 96, 98, 99, 110, 134, 111, 100, 100, 101, 98, 94, 98, 90, 118, 99, 112, 109, 87, 113, 101, 85, 105]\n"
     ]
    }
   ],
   "source": [
    "print(sizes)"
   ]
  },
  {
   "cell_type": "code",
   "execution_count": 6,
   "id": "dd94fe24",
   "metadata": {},
   "outputs": [],
   "source": [
    "d = [[x, sizes.count(x)] for x in set(sizes)]\n",
    "df = pd.DataFrame(d)"
   ]
  },
  {
   "cell_type": "code",
   "execution_count": 7,
   "id": "2a570347",
   "metadata": {},
   "outputs": [
    {
     "data": {
      "text/html": [
       "<div>\n",
       "<style scoped>\n",
       "    .dataframe tbody tr th:only-of-type {\n",
       "        vertical-align: middle;\n",
       "    }\n",
       "\n",
       "    .dataframe tbody tr th {\n",
       "        vertical-align: top;\n",
       "    }\n",
       "\n",
       "    .dataframe thead th {\n",
       "        text-align: right;\n",
       "    }\n",
       "</style>\n",
       "<table border=\"1\" class=\"dataframe\">\n",
       "  <thead>\n",
       "    <tr style=\"text-align: right;\">\n",
       "      <th></th>\n",
       "      <th>Number of Units in Samples</th>\n",
       "      <th>Number of Samples</th>\n",
       "    </tr>\n",
       "  </thead>\n",
       "  <tbody>\n",
       "    <tr>\n",
       "      <th>0</th>\n",
       "      <td>134</td>\n",
       "      <td>1</td>\n",
       "    </tr>\n",
       "    <tr>\n",
       "      <th>1</th>\n",
       "      <td>69</td>\n",
       "      <td>1</td>\n",
       "    </tr>\n",
       "    <tr>\n",
       "      <th>2</th>\n",
       "      <td>75</td>\n",
       "      <td>1</td>\n",
       "    </tr>\n",
       "    <tr>\n",
       "      <th>3</th>\n",
       "      <td>82</td>\n",
       "      <td>4</td>\n",
       "    </tr>\n",
       "    <tr>\n",
       "      <th>4</th>\n",
       "      <td>83</td>\n",
       "      <td>1</td>\n",
       "    </tr>\n",
       "    <tr>\n",
       "      <th>5</th>\n",
       "      <td>85</td>\n",
       "      <td>5</td>\n",
       "    </tr>\n",
       "    <tr>\n",
       "      <th>6</th>\n",
       "      <td>87</td>\n",
       "      <td>1</td>\n",
       "    </tr>\n",
       "    <tr>\n",
       "      <th>7</th>\n",
       "      <td>88</td>\n",
       "      <td>1</td>\n",
       "    </tr>\n",
       "    <tr>\n",
       "      <th>8</th>\n",
       "      <td>89</td>\n",
       "      <td>1</td>\n",
       "    </tr>\n",
       "    <tr>\n",
       "      <th>9</th>\n",
       "      <td>90</td>\n",
       "      <td>3</td>\n",
       "    </tr>\n",
       "    <tr>\n",
       "      <th>10</th>\n",
       "      <td>91</td>\n",
       "      <td>3</td>\n",
       "    </tr>\n",
       "    <tr>\n",
       "      <th>11</th>\n",
       "      <td>92</td>\n",
       "      <td>3</td>\n",
       "    </tr>\n",
       "    <tr>\n",
       "      <th>12</th>\n",
       "      <td>93</td>\n",
       "      <td>5</td>\n",
       "    </tr>\n",
       "    <tr>\n",
       "      <th>13</th>\n",
       "      <td>94</td>\n",
       "      <td>4</td>\n",
       "    </tr>\n",
       "    <tr>\n",
       "      <th>14</th>\n",
       "      <td>95</td>\n",
       "      <td>1</td>\n",
       "    </tr>\n",
       "    <tr>\n",
       "      <th>15</th>\n",
       "      <td>96</td>\n",
       "      <td>4</td>\n",
       "    </tr>\n",
       "    <tr>\n",
       "      <th>16</th>\n",
       "      <td>97</td>\n",
       "      <td>2</td>\n",
       "    </tr>\n",
       "    <tr>\n",
       "      <th>17</th>\n",
       "      <td>98</td>\n",
       "      <td>5</td>\n",
       "    </tr>\n",
       "    <tr>\n",
       "      <th>18</th>\n",
       "      <td>99</td>\n",
       "      <td>5</td>\n",
       "    </tr>\n",
       "    <tr>\n",
       "      <th>19</th>\n",
       "      <td>100</td>\n",
       "      <td>5</td>\n",
       "    </tr>\n",
       "    <tr>\n",
       "      <th>20</th>\n",
       "      <td>101</td>\n",
       "      <td>4</td>\n",
       "    </tr>\n",
       "    <tr>\n",
       "      <th>21</th>\n",
       "      <td>102</td>\n",
       "      <td>3</td>\n",
       "    </tr>\n",
       "    <tr>\n",
       "      <th>22</th>\n",
       "      <td>103</td>\n",
       "      <td>4</td>\n",
       "    </tr>\n",
       "    <tr>\n",
       "      <th>23</th>\n",
       "      <td>104</td>\n",
       "      <td>5</td>\n",
       "    </tr>\n",
       "    <tr>\n",
       "      <th>24</th>\n",
       "      <td>105</td>\n",
       "      <td>4</td>\n",
       "    </tr>\n",
       "    <tr>\n",
       "      <th>25</th>\n",
       "      <td>107</td>\n",
       "      <td>3</td>\n",
       "    </tr>\n",
       "    <tr>\n",
       "      <th>26</th>\n",
       "      <td>108</td>\n",
       "      <td>2</td>\n",
       "    </tr>\n",
       "    <tr>\n",
       "      <th>27</th>\n",
       "      <td>109</td>\n",
       "      <td>1</td>\n",
       "    </tr>\n",
       "    <tr>\n",
       "      <th>28</th>\n",
       "      <td>110</td>\n",
       "      <td>3</td>\n",
       "    </tr>\n",
       "    <tr>\n",
       "      <th>29</th>\n",
       "      <td>111</td>\n",
       "      <td>1</td>\n",
       "    </tr>\n",
       "    <tr>\n",
       "      <th>30</th>\n",
       "      <td>112</td>\n",
       "      <td>2</td>\n",
       "    </tr>\n",
       "    <tr>\n",
       "      <th>31</th>\n",
       "      <td>113</td>\n",
       "      <td>3</td>\n",
       "    </tr>\n",
       "    <tr>\n",
       "      <th>32</th>\n",
       "      <td>114</td>\n",
       "      <td>2</td>\n",
       "    </tr>\n",
       "    <tr>\n",
       "      <th>33</th>\n",
       "      <td>115</td>\n",
       "      <td>2</td>\n",
       "    </tr>\n",
       "    <tr>\n",
       "      <th>34</th>\n",
       "      <td>116</td>\n",
       "      <td>1</td>\n",
       "    </tr>\n",
       "    <tr>\n",
       "      <th>35</th>\n",
       "      <td>117</td>\n",
       "      <td>1</td>\n",
       "    </tr>\n",
       "    <tr>\n",
       "      <th>36</th>\n",
       "      <td>118</td>\n",
       "      <td>1</td>\n",
       "    </tr>\n",
       "    <tr>\n",
       "      <th>37</th>\n",
       "      <td>119</td>\n",
       "      <td>1</td>\n",
       "    </tr>\n",
       "    <tr>\n",
       "      <th>38</th>\n",
       "      <td>122</td>\n",
       "      <td>1</td>\n",
       "    </tr>\n",
       "  </tbody>\n",
       "</table>\n",
       "</div>"
      ],
      "text/plain": [
       "    Number of Units in Samples  Number of Samples\n",
       "0                          134                  1\n",
       "1                           69                  1\n",
       "2                           75                  1\n",
       "3                           82                  4\n",
       "4                           83                  1\n",
       "5                           85                  5\n",
       "6                           87                  1\n",
       "7                           88                  1\n",
       "8                           89                  1\n",
       "9                           90                  3\n",
       "10                          91                  3\n",
       "11                          92                  3\n",
       "12                          93                  5\n",
       "13                          94                  4\n",
       "14                          95                  1\n",
       "15                          96                  4\n",
       "16                          97                  2\n",
       "17                          98                  5\n",
       "18                          99                  5\n",
       "19                         100                  5\n",
       "20                         101                  4\n",
       "21                         102                  3\n",
       "22                         103                  4\n",
       "23                         104                  5\n",
       "24                         105                  4\n",
       "25                         107                  3\n",
       "26                         108                  2\n",
       "27                         109                  1\n",
       "28                         110                  3\n",
       "29                         111                  1\n",
       "30                         112                  2\n",
       "31                         113                  3\n",
       "32                         114                  2\n",
       "33                         115                  2\n",
       "34                         116                  1\n",
       "35                         117                  1\n",
       "36                         118                  1\n",
       "37                         119                  1\n",
       "38                         122                  1"
      ]
     },
     "execution_count": 7,
     "metadata": {},
     "output_type": "execute_result"
    }
   ],
   "source": [
    "df.columns = ['Number of Units in Samples', 'Number of Samples']\n",
    "df"
   ]
  },
  {
   "cell_type": "code",
   "execution_count": 8,
   "id": "c5de6e83",
   "metadata": {},
   "outputs": [
    {
     "data": {
      "image/png": "[encoded data removed]",
      "text/plain": [
       "<Figure size 432x288 with 1 Axes>"
      ]
     },
     "metadata": {
      "needs_background": "light"
     },
     "output_type": "display_data"
    }
   ],
   "source": [
    "plt.bar(df.iloc[:,0], df.iloc[:,1])\n",
    "plt.xticks(np.arange(60, 141, 5))\n",
    "plt.yticks(np.arange(df.iloc[:,1].min(), df.iloc[:,1].max()+1, 1))\n",
    "plt.title(\"Distribution of the Number of Units in the Samples\")\n",
    "plt.xlabel(\"Number of Units\")\n",
    "plt.ylabel(\"Number of Samples\")\n",
    "plt.show()"
   ]
  },
  {
   "cell_type": "markdown",
   "id": "4a37a86d",
   "metadata": {},
   "source": [
    "In simple random sampling, sample mean is an unbiased estimator of the population mean."
   ]
  },
  {
   "cell_type": "markdown",
   "id": "64e59666",
   "metadata": {},
   "source": [
    "First, the expected value of the sample mean is $E(\\bar{y})=\\sum_{s} \\overline{y_{s}} P(s)$ where the summation is over all possible samples $s$ of size $n$, and $P(s)$ is the probability of $s$ being selected, which is $\\binom{N}{n}$. Then,\n",
    "\\begin{align*}\n",
    "E(\\bar{y}) &=\\sum_{s} \\overline{y_{s}} P(s)\\\\\n",
    "&= \\sum_s \\frac{1}{n} (y_{s_1}+\\cdots y_{s_n}) P(s)\\\\\n",
    "&= \\sum_s \\frac{1}{n} (y_{s_1}+\\cdots y_{s_n}) \\frac{1}{\\binom{N}{n}}.\n",
    "\\end{align*}\n",
    "Since each unit in the population can be in $\\binom{N-1}{n-1}$ distinct samples of size $n$, each $y_i$ appears $\\binom{N-1}{n-1}$ times in the above sum. Then,\n",
    "\\begin{align*}\n",
    "\\sum_s \\frac{1}{n} (y_{s_1}+\\cdots y_{s_n}) \\frac{1}{\\binom{N}{n}} &= \\sum_{i=1}^N\\frac{1}{n}\\frac{\\binom{N-1}{n-1}}{\\binom{N}{n}} y_i\\\\\n",
    "&= \\sum_{i=1}^N \\frac{1}{n}\\frac{n}{N} y_i\\\\\n",
    "&= \\frac{1}{N} \\sum_{i=1}^N y_i\n",
    "\\end{align*}\n",
    "so we conclude that the expected value of the sample mean is equal to the population mean. This shows that the sample mean is an unbiased estimator of the population mean."
   ]
  },
  {
   "cell_type": "markdown",
   "id": "6f5dccb7",
   "metadata": {},
   "source": [
    "In simple random sampling, obtaining an unbiased estimator of the population sum $\\tau=\\sum_{i=1}^N y_i$ can be done as follows."
   ]
  },
  {
   "cell_type": "markdown",
   "id": "12256273",
   "metadata": {},
   "source": [
    "Let $\\bar{\\tau}=N\\bar{y}$ be the estimator for the population sum, where $\\bar{y}$ is the sample mean. Then $E(\\bar{\\tau})=E(N\\bar{y})=N\\cdot E(\\bar{y})=N\\mu=N\\cdot\\frac{1}{N}(y_1+\\cdots+y_N)=\\sum_{i=1}^N y_i=\\tau$. Therefore, it is an unbiased estimator."
   ]
  },
  {
   "cell_type": "markdown",
   "id": "80b4f981",
   "metadata": {},
   "source": [
    "### Implementation of the Huntington-Hill method"
   ]
  },
  {
   "cell_type": "code",
   "execution_count": 9,
   "id": "a419e395",
   "metadata": {},
   "outputs": [],
   "source": [
    "import math"
   ]
  },
  {
   "cell_type": "code",
   "execution_count": 10,
   "id": "cff913af",
   "metadata": {},
   "outputs": [],
   "source": [
    "def argmax(arr):\n",
    "    return max(enumerate(arr), key=lambda x: x[1])[0]"
   ]
  },
  {
   "cell_type": "code",
   "execution_count": 11,
   "id": "31e1bd47",
   "metadata": {},
   "outputs": [],
   "source": [
    "def huntington_hill(group_sizes, sample_size):\n",
    "    \"\"\"\n",
    "    group_sizes is a list of group sizes\n",
    "    sample_size is the total number of samples (sum of the number of samples from each \n",
    "    of the groups)\n",
    "    \"\"\"\n",
    "    n = len(group_sizes) # number of groups\n",
    "    total_popl = sum(group_sizes) # total population size\n",
    "    \n",
    "    # if sample_size is less than the number of groups, this method is not applicable\n",
    "    if sample_size < n:\n",
    "        return [0]*n\n",
    "    \n",
    "    # start by assigning 1 sample to each group\n",
    "    allocated = [1]*n\n",
    "    \n",
    "    # calculate the quotient for each group, and then assign 1 sample to the group with\n",
    "    # the highest quotient\n",
    "    quotients = [1]*n\n",
    "    counter = 0\n",
    "    while sample_size > sum(allocated):\n",
    "\n",
    "        for i in range(n):\n",
    "            q = group_sizes[i]/math.sqrt(allocated[i]*(allocated[i]+1))\n",
    "            quotients[i] = q\n",
    "        max_index = argmax(quotients)\n",
    "        allocated[max_index] += 1\n",
    "        counter += 1\n",
    "        print(\"Allocation after {} iteration:\".format(counter), allocated)\n",
    "    return allocated"
   ]
  },
  {
   "cell_type": "code",
   "execution_count": 12,
   "id": "76232951",
   "metadata": {},
   "outputs": [
    {
     "name": "stdout",
     "output_type": "stream",
     "text": [
      "Allocation after 1 iteration: [2, 1, 1]\n",
      "Allocation after 2 iteration: [3, 1, 1]\n",
      "Allocation after 3 iteration: [4, 1, 1]\n",
      "Allocation after 4 iteration: [5, 1, 1]\n",
      "Allocation after 5 iteration: [6, 1, 1]\n",
      "Allocation after 6 iteration: [7, 1, 1]\n",
      "Allocation after 7 iteration: [8, 1, 1]\n"
     ]
    },
    {
     "data": {
      "text/plain": [
       "[8, 1, 1]"
      ]
     },
     "execution_count": 12,
     "metadata": {},
     "output_type": "execute_result"
    }
   ],
   "source": [
    "huntington_hill([84,9,7], 10)"
   ]
  },
  {
   "cell_type": "markdown",
   "id": "a6169f6a",
   "metadata": {},
   "source": [
    "### Diabetes Dataset"
   ]
  },
  {
   "cell_type": "code",
   "execution_count": 13,
   "id": "41ce19df",
   "metadata": {},
   "outputs": [],
   "source": [
    "df = pd.read_csv('diabetes.csv')"
   ]
  },
  {
   "cell_type": "code",
   "execution_count": 14,
   "id": "717f60f0",
   "metadata": {},
   "outputs": [
    {
     "data": {
      "text/html": [
       "<div>\n",
       "<style scoped>\n",
       "    .dataframe tbody tr th:only-of-type {\n",
       "        vertical-align: middle;\n",
       "    }\n",
       "\n",
       "    .dataframe tbody tr th {\n",
       "        vertical-align: top;\n",
       "    }\n",
       "\n",
       "    .dataframe thead th {\n",
       "        text-align: right;\n",
       "    }\n",
       "</style>\n",
       "<table border=\"1\" class=\"dataframe\">\n",
       "  <thead>\n",
       "    <tr style=\"text-align: right;\">\n",
       "      <th></th>\n",
       "      <th>Pregnancies</th>\n",
       "      <th>Glucose</th>\n",
       "      <th>BloodPressure</th>\n",
       "      <th>SkinThickness</th>\n",
       "      <th>Insulin</th>\n",
       "      <th>BMI</th>\n",
       "      <th>DiabetesPedigreeFunction</th>\n",
       "      <th>Age</th>\n",
       "      <th>Outcome</th>\n",
       "    </tr>\n",
       "  </thead>\n",
       "  <tbody>\n",
       "    <tr>\n",
       "      <th>0</th>\n",
       "      <td>6</td>\n",
       "      <td>148</td>\n",
       "      <td>72</td>\n",
       "      <td>35</td>\n",
       "      <td>0</td>\n",
       "      <td>33.6</td>\n",
       "      <td>0.627</td>\n",
       "      <td>50</td>\n",
       "      <td>1</td>\n",
       "    </tr>\n",
       "    <tr>\n",
       "      <th>1</th>\n",
       "      <td>1</td>\n",
       "      <td>85</td>\n",
       "      <td>66</td>\n",
       "      <td>29</td>\n",
       "      <td>0</td>\n",
       "      <td>26.6</td>\n",
       "      <td>0.351</td>\n",
       "      <td>31</td>\n",
       "      <td>0</td>\n",
       "    </tr>\n",
       "    <tr>\n",
       "      <th>2</th>\n",
       "      <td>8</td>\n",
       "      <td>183</td>\n",
       "      <td>64</td>\n",
       "      <td>0</td>\n",
       "      <td>0</td>\n",
       "      <td>23.3</td>\n",
       "      <td>0.672</td>\n",
       "      <td>32</td>\n",
       "      <td>1</td>\n",
       "    </tr>\n",
       "    <tr>\n",
       "      <th>3</th>\n",
       "      <td>1</td>\n",
       "      <td>89</td>\n",
       "      <td>66</td>\n",
       "      <td>23</td>\n",
       "      <td>94</td>\n",
       "      <td>28.1</td>\n",
       "      <td>0.167</td>\n",
       "      <td>21</td>\n",
       "      <td>0</td>\n",
       "    </tr>\n",
       "    <tr>\n",
       "      <th>4</th>\n",
       "      <td>0</td>\n",
       "      <td>137</td>\n",
       "      <td>40</td>\n",
       "      <td>35</td>\n",
       "      <td>168</td>\n",
       "      <td>43.1</td>\n",
       "      <td>2.288</td>\n",
       "      <td>33</td>\n",
       "      <td>1</td>\n",
       "    </tr>\n",
       "    <tr>\n",
       "      <th>...</th>\n",
       "      <td>...</td>\n",
       "      <td>...</td>\n",
       "      <td>...</td>\n",
       "      <td>...</td>\n",
       "      <td>...</td>\n",
       "      <td>...</td>\n",
       "      <td>...</td>\n",
       "      <td>...</td>\n",
       "      <td>...</td>\n",
       "    </tr>\n",
       "    <tr>\n",
       "      <th>763</th>\n",
       "      <td>10</td>\n",
       "      <td>101</td>\n",
       "      <td>76</td>\n",
       "      <td>48</td>\n",
       "      <td>180</td>\n",
       "      <td>32.9</td>\n",
       "      <td>0.171</td>\n",
       "      <td>63</td>\n",
       "      <td>0</td>\n",
       "    </tr>\n",
       "    <tr>\n",
       "      <th>764</th>\n",
       "      <td>2</td>\n",
       "      <td>122</td>\n",
       "      <td>70</td>\n",
       "      <td>27</td>\n",
       "      <td>0</td>\n",
       "      <td>36.8</td>\n",
       "      <td>0.340</td>\n",
       "      <td>27</td>\n",
       "      <td>0</td>\n",
       "    </tr>\n",
       "    <tr>\n",
       "      <th>765</th>\n",
       "      <td>5</td>\n",
       "      <td>121</td>\n",
       "      <td>72</td>\n",
       "      <td>23</td>\n",
       "      <td>112</td>\n",
       "      <td>26.2</td>\n",
       "      <td>0.245</td>\n",
       "      <td>30</td>\n",
       "      <td>0</td>\n",
       "    </tr>\n",
       "    <tr>\n",
       "      <th>766</th>\n",
       "      <td>1</td>\n",
       "      <td>126</td>\n",
       "      <td>60</td>\n",
       "      <td>0</td>\n",
       "      <td>0</td>\n",
       "      <td>30.1</td>\n",
       "      <td>0.349</td>\n",
       "      <td>47</td>\n",
       "      <td>1</td>\n",
       "    </tr>\n",
       "    <tr>\n",
       "      <th>767</th>\n",
       "      <td>1</td>\n",
       "      <td>93</td>\n",
       "      <td>70</td>\n",
       "      <td>31</td>\n",
       "      <td>0</td>\n",
       "      <td>30.4</td>\n",
       "      <td>0.315</td>\n",
       "      <td>23</td>\n",
       "      <td>0</td>\n",
       "    </tr>\n",
       "  </tbody>\n",
       "</table>\n",
       "<p>768 rows × 9 columns</p>\n",
       "</div>"
      ],
      "text/plain": [
       "     Pregnancies  Glucose  BloodPressure  SkinThickness  Insulin   BMI  \\\n",
       "0              6      148             72             35        0  33.6   \n",
       "1              1       85             66             29        0  26.6   \n",
       "2              8      183             64              0        0  23.3   \n",
       "3              1       89             66             23       94  28.1   \n",
       "4              0      137             40             35      168  43.1   \n",
       "..           ...      ...            ...            ...      ...   ...   \n",
       "763           10      101             76             48      180  32.9   \n",
       "764            2      122             70             27        0  36.8   \n",
       "765            5      121             72             23      112  26.2   \n",
       "766            1      126             60              0        0  30.1   \n",
       "767            1       93             70             31        0  30.4   \n",
       "\n",
       "     DiabetesPedigreeFunction  Age  Outcome  \n",
       "0                       0.627   50        1  \n",
       "1                       0.351   31        0  \n",
       "2                       0.672   32        1  \n",
       "3                       0.167   21        0  \n",
       "4                       2.288   33        1  \n",
       "..                        ...  ...      ...  \n",
       "763                     0.171   63        0  \n",
       "764                     0.340   27        0  \n",
       "765                     0.245   30        0  \n",
       "766                     0.349   47        1  \n",
       "767                     0.315   23        0  \n",
       "\n",
       "[768 rows x 9 columns]"
      ]
     },
     "execution_count": 14,
     "metadata": {},
     "output_type": "execute_result"
    }
   ],
   "source": [
    "df"
   ]
  },
  {
   "cell_type": "code",
   "execution_count": 15,
   "id": "3689d103",
   "metadata": {
    "scrolled": false
   },
   "outputs": [
    {
     "name": "stdout",
     "output_type": "stream",
     "text": [
      "For sample rate 5%\n",
      "Estimated mean and 95% confidence interval: 0.34210526315789475 +/- 0.12827827892172955\n"
     ]
    }
   ],
   "source": [
    "# using sample rate 5%\n",
    "N = df.shape[0]\n",
    "n = int(N*0.05)\n",
    "s = df['Outcome'].sample(n, random_state=1)\n",
    "y_bar = s.mean()\n",
    "diff = s - y_bar\n",
    "diff = diff**2\n",
    "s_squared = diff.sum()/(n-1)\n",
    "ci = 1.687*math.sqrt((N-n)*s_squared/(N*n)) \n",
    "print(\"For sample rate 5%\")\n",
    "print(\"Estimated mean and 95% confidence interval:\", y_bar, \"+/-\", ci)"
   ]
  },
  {
   "cell_type": "code",
   "execution_count": 16,
   "id": "42067785",
   "metadata": {},
   "outputs": [
    {
     "name": "stdout",
     "output_type": "stream",
     "text": [
      "For sample rate 10%\n",
      "Estimated mean and 95% confidence interval: 0.3684210526315789 +/- 0.08919549709089974\n"
     ]
    }
   ],
   "source": [
    "# using sample rate 10%\n",
    "N = df.shape[0]\n",
    "n = int(N*0.1)\n",
    "s = df['Outcome'].sample(n, random_state=1)\n",
    "y_bar = s.mean()\n",
    "diff = s - y_bar\n",
    "diff = diff**2\n",
    "s_squared = diff.sum()/(n-1)\n",
    "ci = 1.687*math.sqrt((N-n)*s_squared/(N*n)) \n",
    "print(\"For sample rate 10%\")\n",
    "print(\"Estimated mean and 95% confidence interval:\", y_bar, \"+/-\", ci)"
   ]
  },
  {
   "cell_type": "markdown",
   "id": "6a005bb1",
   "metadata": {},
   "source": [
    "### Attribute: Pregnancies"
   ]
  },
  {
   "cell_type": "code",
   "execution_count": 17,
   "id": "86fc8e06",
   "metadata": {},
   "outputs": [
    {
     "data": {
      "text/html": [
       "<div>\n",
       "<style scoped>\n",
       "    .dataframe tbody tr th:only-of-type {\n",
       "        vertical-align: middle;\n",
       "    }\n",
       "\n",
       "    .dataframe tbody tr th {\n",
       "        vertical-align: top;\n",
       "    }\n",
       "\n",
       "    .dataframe thead th {\n",
       "        text-align: right;\n",
       "    }\n",
       "</style>\n",
       "<table border=\"1\" class=\"dataframe\">\n",
       "  <thead>\n",
       "    <tr style=\"text-align: right;\">\n",
       "      <th></th>\n",
       "      <th></th>\n",
       "      <th>Pregnancies</th>\n",
       "      <th>Outcome</th>\n",
       "    </tr>\n",
       "    <tr>\n",
       "      <th>Pregnancies</th>\n",
       "      <th></th>\n",
       "      <th></th>\n",
       "      <th></th>\n",
       "    </tr>\n",
       "  </thead>\n",
       "  <tbody>\n",
       "    <tr>\n",
       "      <th rowspan=\"5\" valign=\"top\">0</th>\n",
       "      <th>45</th>\n",
       "      <td>0</td>\n",
       "      <td>1</td>\n",
       "    </tr>\n",
       "    <tr>\n",
       "      <th>536</th>\n",
       "      <td>0</td>\n",
       "      <td>0</td>\n",
       "    </tr>\n",
       "    <tr>\n",
       "      <th>465</th>\n",
       "      <td>0</td>\n",
       "      <td>0</td>\n",
       "    </tr>\n",
       "    <tr>\n",
       "      <th>528</th>\n",
       "      <td>0</td>\n",
       "      <td>0</td>\n",
       "    </tr>\n",
       "    <tr>\n",
       "      <th>445</th>\n",
       "      <td>0</td>\n",
       "      <td>1</td>\n",
       "    </tr>\n",
       "    <tr>\n",
       "      <th>...</th>\n",
       "      <th>...</th>\n",
       "      <td>...</td>\n",
       "      <td>...</td>\n",
       "    </tr>\n",
       "    <tr>\n",
       "      <th rowspan=\"2\" valign=\"top\">10</th>\n",
       "      <th>542</th>\n",
       "      <td>10</td>\n",
       "      <td>1</td>\n",
       "    </tr>\n",
       "    <tr>\n",
       "      <th>306</th>\n",
       "      <td>10</td>\n",
       "      <td>1</td>\n",
       "    </tr>\n",
       "    <tr>\n",
       "      <th>11</th>\n",
       "      <th>193</th>\n",
       "      <td>11</td>\n",
       "      <td>1</td>\n",
       "    </tr>\n",
       "    <tr>\n",
       "      <th>12</th>\n",
       "      <th>745</th>\n",
       "      <td>12</td>\n",
       "      <td>0</td>\n",
       "    </tr>\n",
       "    <tr>\n",
       "      <th>13</th>\n",
       "      <th>86</th>\n",
       "      <td>13</td>\n",
       "      <td>0</td>\n",
       "    </tr>\n",
       "  </tbody>\n",
       "</table>\n",
       "<p>77 rows × 2 columns</p>\n",
       "</div>"
      ],
      "text/plain": [
       "                 Pregnancies  Outcome\n",
       "Pregnancies                          \n",
       "0           45             0        1\n",
       "            536            0        0\n",
       "            465            0        0\n",
       "            528            0        0\n",
       "            445            0        1\n",
       "...                      ...      ...\n",
       "10          542           10        1\n",
       "            306           10        1\n",
       "11          193           11        1\n",
       "12          745           12        0\n",
       "13          86            13        0\n",
       "\n",
       "[77 rows x 2 columns]"
      ]
     },
     "execution_count": 17,
     "metadata": {},
     "output_type": "execute_result"
    }
   ],
   "source": [
    "stratified_pregnancies = df.groupby('Pregnancies').apply(lambda x: x.sample(\n",
    "    frac=0.1, random_state=22))\n",
    "stratified_pregnancies.drop(stratified_pregnancies.columns[[1,2,3,4,5,6,7]],axis=1,inplace=True)\n",
    "stratified_pregnancies"
   ]
  },
  {
   "cell_type": "code",
   "execution_count": 18,
   "id": "1ab7dedb",
   "metadata": {},
   "outputs": [
    {
     "data": {
      "text/plain": [
       "0.3116883116883117"
      ]
     },
     "execution_count": 18,
     "metadata": {},
     "output_type": "execute_result"
    }
   ],
   "source": [
    "stratified_pregnancies['Outcome'].mean()"
   ]
  },
  {
   "cell_type": "markdown",
   "id": "f8f6c65c",
   "metadata": {},
   "source": [
    "### Attribute: Glucose"
   ]
  },
  {
   "cell_type": "code",
   "execution_count": 19,
   "id": "91844987",
   "metadata": {
    "scrolled": false
   },
   "outputs": [
    {
     "data": {
      "text/html": [
       "<div>\n",
       "<style scoped>\n",
       "    .dataframe tbody tr th:only-of-type {\n",
       "        vertical-align: middle;\n",
       "    }\n",
       "\n",
       "    .dataframe tbody tr th {\n",
       "        vertical-align: top;\n",
       "    }\n",
       "\n",
       "    .dataframe thead th {\n",
       "        text-align: right;\n",
       "    }\n",
       "</style>\n",
       "<table border=\"1\" class=\"dataframe\">\n",
       "  <thead>\n",
       "    <tr style=\"text-align: right;\">\n",
       "      <th></th>\n",
       "      <th></th>\n",
       "      <th>Glucose</th>\n",
       "      <th>Outcome</th>\n",
       "    </tr>\n",
       "    <tr>\n",
       "      <th>Glucose</th>\n",
       "      <th></th>\n",
       "      <th></th>\n",
       "      <th></th>\n",
       "    </tr>\n",
       "  </thead>\n",
       "  <tbody>\n",
       "    <tr>\n",
       "      <th>(60, 70]</th>\n",
       "      <th>352</th>\n",
       "      <td>61</td>\n",
       "      <td>0</td>\n",
       "    </tr>\n",
       "    <tr>\n",
       "      <th rowspan=\"3\" valign=\"top\">(70, 80]</th>\n",
       "      <th>570</th>\n",
       "      <td>78</td>\n",
       "      <td>0</td>\n",
       "    </tr>\n",
       "    <tr>\n",
       "      <th>494</th>\n",
       "      <td>80</td>\n",
       "      <td>0</td>\n",
       "    </tr>\n",
       "    <tr>\n",
       "      <th>589</th>\n",
       "      <td>73</td>\n",
       "      <td>0</td>\n",
       "    </tr>\n",
       "    <tr>\n",
       "      <th>(80, 90]</th>\n",
       "      <th>532</th>\n",
       "      <td>86</td>\n",
       "      <td>0</td>\n",
       "    </tr>\n",
       "    <tr>\n",
       "      <th>...</th>\n",
       "      <th>...</th>\n",
       "      <td>...</td>\n",
       "      <td>...</td>\n",
       "    </tr>\n",
       "    <tr>\n",
       "      <th>(170, 180]</th>\n",
       "      <th>716</th>\n",
       "      <td>173</td>\n",
       "      <td>1</td>\n",
       "    </tr>\n",
       "    <tr>\n",
       "      <th rowspan=\"2\" valign=\"top\">(180, 190]</th>\n",
       "      <th>546</th>\n",
       "      <td>187</td>\n",
       "      <td>1</td>\n",
       "    </tr>\n",
       "    <tr>\n",
       "      <th>360</th>\n",
       "      <td>189</td>\n",
       "      <td>1</td>\n",
       "    </tr>\n",
       "    <tr>\n",
       "      <th rowspan=\"2\" valign=\"top\">(190, 200]</th>\n",
       "      <th>319</th>\n",
       "      <td>194</td>\n",
       "      <td>1</td>\n",
       "    </tr>\n",
       "    <tr>\n",
       "      <th>206</th>\n",
       "      <td>196</td>\n",
       "      <td>1</td>\n",
       "    </tr>\n",
       "  </tbody>\n",
       "</table>\n",
       "<p>77 rows × 2 columns</p>\n",
       "</div>"
      ],
      "text/plain": [
       "                Glucose  Outcome\n",
       "Glucose                         \n",
       "(60, 70]   352       61        0\n",
       "(70, 80]   570       78        0\n",
       "           494       80        0\n",
       "           589       73        0\n",
       "(80, 90]   532       86        0\n",
       "...                 ...      ...\n",
       "(170, 180] 716      173        1\n",
       "(180, 190] 546      187        1\n",
       "           360      189        1\n",
       "(190, 200] 319      194        1\n",
       "           206      196        1\n",
       "\n",
       "[77 rows x 2 columns]"
      ]
     },
     "execution_count": 19,
     "metadata": {},
     "output_type": "execute_result"
    }
   ],
   "source": [
    "stratified_glucose = df.groupby(pd.cut(df['Glucose'], np.arange(0,df['Glucose'].max()+10,10\n",
    "    ))).apply(lambda x: x.sample(frac=0.1, random_state=22))\n",
    "stratified_glucose.drop(stratified_glucose.columns[[0,2,3,4,5,6,7]],axis=1,inplace=True)\n",
    "stratified_glucose"
   ]
  },
  {
   "cell_type": "code",
   "execution_count": 20,
   "id": "7e746a4c",
   "metadata": {},
   "outputs": [
    {
     "data": {
      "text/plain": [
       "0.38961038961038963"
      ]
     },
     "execution_count": 20,
     "metadata": {},
     "output_type": "execute_result"
    }
   ],
   "source": [
    "stratified_glucose['Outcome'].mean()"
   ]
  },
  {
   "cell_type": "markdown",
   "id": "9f50cd58",
   "metadata": {},
   "source": [
    "### Attribute: BloodPressure"
   ]
  },
  {
   "cell_type": "code",
   "execution_count": 21,
   "id": "7a596db6",
   "metadata": {},
   "outputs": [
    {
     "data": {
      "text/html": [
       "<div>\n",
       "<style scoped>\n",
       "    .dataframe tbody tr th:only-of-type {\n",
       "        vertical-align: middle;\n",
       "    }\n",
       "\n",
       "    .dataframe tbody tr th {\n",
       "        vertical-align: top;\n",
       "    }\n",
       "\n",
       "    .dataframe thead th {\n",
       "        text-align: right;\n",
       "    }\n",
       "</style>\n",
       "<table border=\"1\" class=\"dataframe\">\n",
       "  <thead>\n",
       "    <tr style=\"text-align: right;\">\n",
       "      <th></th>\n",
       "      <th></th>\n",
       "      <th>BloodPressure</th>\n",
       "      <th>Outcome</th>\n",
       "    </tr>\n",
       "    <tr>\n",
       "      <th>BloodPressure</th>\n",
       "      <th></th>\n",
       "      <th></th>\n",
       "      <th></th>\n",
       "    </tr>\n",
       "  </thead>\n",
       "  <tbody>\n",
       "    <tr>\n",
       "      <th rowspan=\"2\" valign=\"top\">(40, 50]</th>\n",
       "      <th>356</th>\n",
       "      <td>50</td>\n",
       "      <td>1</td>\n",
       "    </tr>\n",
       "    <tr>\n",
       "      <th>258</th>\n",
       "      <td>50</td>\n",
       "      <td>0</td>\n",
       "    </tr>\n",
       "    <tr>\n",
       "      <th rowspan=\"3\" valign=\"top\">(50, 60]</th>\n",
       "      <th>650</th>\n",
       "      <td>54</td>\n",
       "      <td>0</td>\n",
       "    </tr>\n",
       "    <tr>\n",
       "      <th>127</th>\n",
       "      <td>58</td>\n",
       "      <td>0</td>\n",
       "    </tr>\n",
       "    <tr>\n",
       "      <th>256</th>\n",
       "      <td>56</td>\n",
       "      <td>0</td>\n",
       "    </tr>\n",
       "    <tr>\n",
       "      <th>...</th>\n",
       "      <th>...</th>\n",
       "      <td>...</td>\n",
       "      <td>...</td>\n",
       "    </tr>\n",
       "    <tr>\n",
       "      <th rowspan=\"2\" valign=\"top\">(80, 90]</th>\n",
       "      <th>21</th>\n",
       "      <td>84</td>\n",
       "      <td>0</td>\n",
       "    </tr>\n",
       "    <tr>\n",
       "      <th>600</th>\n",
       "      <td>88</td>\n",
       "      <td>0</td>\n",
       "    </tr>\n",
       "    <tr>\n",
       "      <th rowspan=\"2\" valign=\"top\">(90, 100]</th>\n",
       "      <th>622</th>\n",
       "      <td>94</td>\n",
       "      <td>0</td>\n",
       "    </tr>\n",
       "    <tr>\n",
       "      <th>616</th>\n",
       "      <td>96</td>\n",
       "      <td>0</td>\n",
       "    </tr>\n",
       "    <tr>\n",
       "      <th>(100, 110]</th>\n",
       "      <th>177</th>\n",
       "      <td>110</td>\n",
       "      <td>1</td>\n",
       "    </tr>\n",
       "  </tbody>\n",
       "</table>\n",
       "<p>72 rows × 2 columns</p>\n",
       "</div>"
      ],
      "text/plain": [
       "                   BloodPressure  Outcome\n",
       "BloodPressure                            \n",
       "(40, 50]      356             50        1\n",
       "              258             50        0\n",
       "(50, 60]      650             54        0\n",
       "              127             58        0\n",
       "              256             56        0\n",
       "...                          ...      ...\n",
       "(80, 90]      21              84        0\n",
       "              600             88        0\n",
       "(90, 100]     622             94        0\n",
       "              616             96        0\n",
       "(100, 110]    177            110        1\n",
       "\n",
       "[72 rows x 2 columns]"
      ]
     },
     "execution_count": 21,
     "metadata": {},
     "output_type": "execute_result"
    }
   ],
   "source": [
    "stratified_bp = df.groupby(pd.cut(df['BloodPressure'], \n",
    "                np.arange(0,df['BloodPressure'].max()+10,10))).apply(\n",
    "                lambda x: x.sample(frac=0.1, random_state=22))\n",
    "stratified_bp.drop(stratified_bp.columns[[0,1,3,4,5,6,7]],axis=1,inplace=True)\n",
    "stratified_bp"
   ]
  },
  {
   "cell_type": "code",
   "execution_count": 22,
   "id": "c25eabb0",
   "metadata": {},
   "outputs": [
    {
     "data": {
      "text/plain": [
       "count    768.000000\n",
       "mean      69.105469\n",
       "std       19.355807\n",
       "min        0.000000\n",
       "25%       62.000000\n",
       "50%       72.000000\n",
       "75%       80.000000\n",
       "max      122.000000\n",
       "Name: BloodPressure, dtype: float64"
      ]
     },
     "execution_count": 22,
     "metadata": {},
     "output_type": "execute_result"
    }
   ],
   "source": [
    "df['BloodPressure'].describe()"
   ]
  },
  {
   "cell_type": "code",
   "execution_count": 23,
   "id": "2e363044",
   "metadata": {},
   "outputs": [
    {
     "data": {
      "text/plain": [
       "0.3333333333333333"
      ]
     },
     "execution_count": 23,
     "metadata": {},
     "output_type": "execute_result"
    }
   ],
   "source": [
    "stratified_bp['Outcome'].mean()"
   ]
  },
  {
   "cell_type": "markdown",
   "id": "8f4f6359",
   "metadata": {},
   "source": [
    "### Attribute: Age"
   ]
  },
  {
   "cell_type": "code",
   "execution_count": 24,
   "id": "c88749ab",
   "metadata": {},
   "outputs": [
    {
     "data": {
      "text/html": [
       "<div>\n",
       "<style scoped>\n",
       "    .dataframe tbody tr th:only-of-type {\n",
       "        vertical-align: middle;\n",
       "    }\n",
       "\n",
       "    .dataframe tbody tr th {\n",
       "        vertical-align: top;\n",
       "    }\n",
       "\n",
       "    .dataframe thead th {\n",
       "        text-align: right;\n",
       "    }\n",
       "</style>\n",
       "<table border=\"1\" class=\"dataframe\">\n",
       "  <thead>\n",
       "    <tr style=\"text-align: right;\">\n",
       "      <th></th>\n",
       "      <th></th>\n",
       "      <th>Age</th>\n",
       "      <th>Outcome</th>\n",
       "    </tr>\n",
       "    <tr>\n",
       "      <th>Age</th>\n",
       "      <th></th>\n",
       "      <th></th>\n",
       "      <th></th>\n",
       "    </tr>\n",
       "  </thead>\n",
       "  <tbody>\n",
       "    <tr>\n",
       "      <th rowspan=\"5\" valign=\"top\">(20, 30]</th>\n",
       "      <th>102</th>\n",
       "      <td>21</td>\n",
       "      <td>0</td>\n",
       "    </tr>\n",
       "    <tr>\n",
       "      <th>496</th>\n",
       "      <td>30</td>\n",
       "      <td>0</td>\n",
       "    </tr>\n",
       "    <tr>\n",
       "      <th>90</th>\n",
       "      <td>21</td>\n",
       "      <td>0</td>\n",
       "    </tr>\n",
       "    <tr>\n",
       "      <th>705</th>\n",
       "      <td>28</td>\n",
       "      <td>0</td>\n",
       "    </tr>\n",
       "    <tr>\n",
       "      <th>139</th>\n",
       "      <td>28</td>\n",
       "      <td>0</td>\n",
       "    </tr>\n",
       "    <tr>\n",
       "      <th>...</th>\n",
       "      <th>...</th>\n",
       "      <td>...</td>\n",
       "      <td>...</td>\n",
       "    </tr>\n",
       "    <tr>\n",
       "      <th rowspan=\"3\" valign=\"top\">(50, 60]</th>\n",
       "      <th>475</th>\n",
       "      <td>59</td>\n",
       "      <td>0</td>\n",
       "    </tr>\n",
       "    <tr>\n",
       "      <th>734</th>\n",
       "      <td>53</td>\n",
       "      <td>0</td>\n",
       "    </tr>\n",
       "    <tr>\n",
       "      <th>93</th>\n",
       "      <td>60</td>\n",
       "      <td>1</td>\n",
       "    </tr>\n",
       "    <tr>\n",
       "      <th rowspan=\"2\" valign=\"top\">(60, 70]</th>\n",
       "      <th>582</th>\n",
       "      <td>62</td>\n",
       "      <td>0</td>\n",
       "    </tr>\n",
       "    <tr>\n",
       "      <th>579</th>\n",
       "      <td>62</td>\n",
       "      <td>1</td>\n",
       "    </tr>\n",
       "  </tbody>\n",
       "</table>\n",
       "<p>76 rows × 2 columns</p>\n",
       "</div>"
      ],
      "text/plain": [
       "              Age  Outcome\n",
       "Age                       \n",
       "(20, 30] 102   21        0\n",
       "         496   30        0\n",
       "         90    21        0\n",
       "         705   28        0\n",
       "         139   28        0\n",
       "...           ...      ...\n",
       "(50, 60] 475   59        0\n",
       "         734   53        0\n",
       "         93    60        1\n",
       "(60, 70] 582   62        0\n",
       "         579   62        1\n",
       "\n",
       "[76 rows x 2 columns]"
      ]
     },
     "execution_count": 24,
     "metadata": {},
     "output_type": "execute_result"
    }
   ],
   "source": [
    "stratified_age = df.groupby(pd.cut(df['Age'], \n",
    "                np.arange(0,df['Age'].max()+10,10))).apply(\n",
    "                lambda x: x.sample(frac=0.1, random_state=22))\n",
    "stratified_age.drop(stratified_age.columns[[0,1,2,3,4,5,6]],axis=1,inplace=True)\n",
    "stratified_age"
   ]
  },
  {
   "cell_type": "code",
   "execution_count": 25,
   "id": "7f7fa52b",
   "metadata": {},
   "outputs": [
    {
     "data": {
      "text/plain": [
       "0.32894736842105265"
      ]
     },
     "execution_count": 25,
     "metadata": {},
     "output_type": "execute_result"
    }
   ],
   "source": [
    "stratified_age['Outcome'].mean()"
   ]
  },
  {
   "cell_type": "markdown",
   "id": "fb2707be",
   "metadata": {},
   "source": [
    "### Analysis of results"
   ]
  },
  {
   "cell_type": "markdown",
   "id": "8559df95",
   "metadata": {},
   "source": [
    "The estimated mean calculated in part 1 using sample rate 10% was 0.3684. The attribute that provided the closest estimate was Glucose, which was 0.3896. Computing the variance for each stratum of the attributes pregnancies, glucose, blood pressure, and age, we obtain the data shown below.\n",
    "\n",
    "Glucose has low variance in each stratum, all of them being less than 0.255. All other attributes have strata with variance higher than 0.255. This shows that stratification using the glucose attribute provides the best estimate out of the four attributes considered in this problem, since the values in each stratum are more similar to each other. Plotting the mean of each stratum, we also see that the attribute with the highest correlation with diabetes is glucose, as its correlation is approximately linear (shown below)."
   ]
  },
  {
   "cell_type": "markdown",
   "id": "1bc86b0d",
   "metadata": {},
   "source": [
    "### Pregnancies"
   ]
  },
  {
   "cell_type": "code",
   "execution_count": 26,
   "id": "2f9667f1",
   "metadata": {},
   "outputs": [],
   "source": [
    "grouped_p = df.drop(df.columns[[1,2,3,4,5,6,7]],axis=1,inplace=False).groupby('Pregnancies')"
   ]
  },
  {
   "cell_type": "code",
   "execution_count": 27,
   "id": "055b98b1",
   "metadata": {},
   "outputs": [
    {
     "data": {
      "text/plain": [
       "Pregnancies\n",
       "0     111\n",
       "1     135\n",
       "2     103\n",
       "3      75\n",
       "4      68\n",
       "5      57\n",
       "6      50\n",
       "7      45\n",
       "8      38\n",
       "9      28\n",
       "10     24\n",
       "11     11\n",
       "12      9\n",
       "13     10\n",
       "14      2\n",
       "15      1\n",
       "17      1\n",
       "dtype: int64"
      ]
     },
     "execution_count": 27,
     "metadata": {},
     "output_type": "execute_result"
    }
   ],
   "source": [
    "# number of units in each stratum\n",
    "grouped_p.size()"
   ]
  },
  {
   "cell_type": "code",
   "execution_count": 28,
   "id": "3f0d12a0",
   "metadata": {},
   "outputs": [
    {
     "data": {
      "text/html": [
       "<div>\n",
       "<style scoped>\n",
       "    .dataframe tbody tr th:only-of-type {\n",
       "        vertical-align: middle;\n",
       "    }\n",
       "\n",
       "    .dataframe tbody tr th {\n",
       "        vertical-align: top;\n",
       "    }\n",
       "\n",
       "    .dataframe thead th {\n",
       "        text-align: right;\n",
       "    }\n",
       "</style>\n",
       "<table border=\"1\" class=\"dataframe\">\n",
       "  <thead>\n",
       "    <tr style=\"text-align: right;\">\n",
       "      <th></th>\n",
       "      <th>Pregnancies</th>\n",
       "      <th>mean</th>\n",
       "      <th>var</th>\n",
       "    </tr>\n",
       "  </thead>\n",
       "  <tbody>\n",
       "    <tr>\n",
       "      <th>0</th>\n",
       "      <td>0</td>\n",
       "      <td>0.342342</td>\n",
       "      <td>0.227191</td>\n",
       "    </tr>\n",
       "    <tr>\n",
       "      <th>1</th>\n",
       "      <td>1</td>\n",
       "      <td>0.214815</td>\n",
       "      <td>0.169928</td>\n",
       "    </tr>\n",
       "    <tr>\n",
       "      <th>2</th>\n",
       "      <td>2</td>\n",
       "      <td>0.184466</td>\n",
       "      <td>0.151913</td>\n",
       "    </tr>\n",
       "    <tr>\n",
       "      <th>3</th>\n",
       "      <td>3</td>\n",
       "      <td>0.360000</td>\n",
       "      <td>0.233514</td>\n",
       "    </tr>\n",
       "    <tr>\n",
       "      <th>4</th>\n",
       "      <td>4</td>\n",
       "      <td>0.338235</td>\n",
       "      <td>0.227173</td>\n",
       "    </tr>\n",
       "    <tr>\n",
       "      <th>5</th>\n",
       "      <td>5</td>\n",
       "      <td>0.368421</td>\n",
       "      <td>0.236842</td>\n",
       "    </tr>\n",
       "    <tr>\n",
       "      <th>6</th>\n",
       "      <td>6</td>\n",
       "      <td>0.320000</td>\n",
       "      <td>0.222041</td>\n",
       "    </tr>\n",
       "    <tr>\n",
       "      <th>7</th>\n",
       "      <td>7</td>\n",
       "      <td>0.555556</td>\n",
       "      <td>0.252525</td>\n",
       "    </tr>\n",
       "    <tr>\n",
       "      <th>8</th>\n",
       "      <td>8</td>\n",
       "      <td>0.578947</td>\n",
       "      <td>0.250356</td>\n",
       "    </tr>\n",
       "    <tr>\n",
       "      <th>9</th>\n",
       "      <td>9</td>\n",
       "      <td>0.642857</td>\n",
       "      <td>0.238095</td>\n",
       "    </tr>\n",
       "    <tr>\n",
       "      <th>10</th>\n",
       "      <td>10</td>\n",
       "      <td>0.416667</td>\n",
       "      <td>0.253623</td>\n",
       "    </tr>\n",
       "    <tr>\n",
       "      <th>11</th>\n",
       "      <td>11</td>\n",
       "      <td>0.636364</td>\n",
       "      <td>0.254545</td>\n",
       "    </tr>\n",
       "    <tr>\n",
       "      <th>12</th>\n",
       "      <td>12</td>\n",
       "      <td>0.444444</td>\n",
       "      <td>0.277778</td>\n",
       "    </tr>\n",
       "    <tr>\n",
       "      <th>13</th>\n",
       "      <td>13</td>\n",
       "      <td>0.500000</td>\n",
       "      <td>0.277778</td>\n",
       "    </tr>\n",
       "    <tr>\n",
       "      <th>14</th>\n",
       "      <td>14</td>\n",
       "      <td>1.000000</td>\n",
       "      <td>0.000000</td>\n",
       "    </tr>\n",
       "    <tr>\n",
       "      <th>15</th>\n",
       "      <td>15</td>\n",
       "      <td>1.000000</td>\n",
       "      <td>NaN</td>\n",
       "    </tr>\n",
       "    <tr>\n",
       "      <th>16</th>\n",
       "      <td>17</td>\n",
       "      <td>1.000000</td>\n",
       "      <td>NaN</td>\n",
       "    </tr>\n",
       "  </tbody>\n",
       "</table>\n",
       "</div>"
      ],
      "text/plain": [
       "    Pregnancies      mean       var\n",
       "0             0  0.342342  0.227191\n",
       "1             1  0.214815  0.169928\n",
       "2             2  0.184466  0.151913\n",
       "3             3  0.360000  0.233514\n",
       "4             4  0.338235  0.227173\n",
       "5             5  0.368421  0.236842\n",
       "6             6  0.320000  0.222041\n",
       "7             7  0.555556  0.252525\n",
       "8             8  0.578947  0.250356\n",
       "9             9  0.642857  0.238095\n",
       "10           10  0.416667  0.253623\n",
       "11           11  0.636364  0.254545\n",
       "12           12  0.444444  0.277778\n",
       "13           13  0.500000  0.277778\n",
       "14           14  1.000000  0.000000\n",
       "15           15  1.000000       NaN\n",
       "16           17  1.000000       NaN"
      ]
     },
     "execution_count": 28,
     "metadata": {},
     "output_type": "execute_result"
    }
   ],
   "source": [
    "grouped_p['Outcome'].agg([\"mean\", \"var\"]).reset_index()"
   ]
  },
  {
   "cell_type": "code",
   "execution_count": 29,
   "id": "ba89a137",
   "metadata": {},
   "outputs": [
    {
     "data": {
      "text/plain": [
       "3.273301858487499"
      ]
     },
     "execution_count": 29,
     "metadata": {},
     "output_type": "execute_result"
    }
   ],
   "source": [
    "grouped_p['Outcome'].agg(\"var\").sum()"
   ]
  },
  {
   "cell_type": "code",
   "execution_count": 30,
   "id": "b13c7c18",
   "metadata": {},
   "outputs": [
    {
     "data": {
      "text/plain": [
       "<AxesSubplot:xlabel='Pregnancies'>"
      ]
     },
     "execution_count": 30,
     "metadata": {},
     "output_type": "execute_result"
    },
    {
     "data": {
      "image/png": "[encoded data removed]",
      "text/plain": [
       "<Figure size 432x288 with 1 Axes>"
      ]
     },
     "metadata": {
      "needs_background": "light"
     },
     "output_type": "display_data"
    }
   ],
   "source": [
    "grouped_p['Outcome'].agg(\"mean\").dropna().plot.bar()"
   ]
  },
  {
   "cell_type": "markdown",
   "id": "83691d2b",
   "metadata": {},
   "source": [
    "### Glucose"
   ]
  },
  {
   "cell_type": "code",
   "execution_count": 31,
   "id": "0d04520a",
   "metadata": {},
   "outputs": [],
   "source": [
    "grouped_g = df.drop(df.columns[[0,2,3,4,5,6,7]],axis=1,inplace=False).groupby(\n",
    "    pd.cut(df['Glucose'], np.arange(0,df['Glucose'].max()+10,10)))"
   ]
  },
  {
   "cell_type": "code",
   "execution_count": 32,
   "id": "ee5883d3",
   "metadata": {},
   "outputs": [
    {
     "data": {
      "text/plain": [
       "Glucose\n",
       "(0, 10]         0\n",
       "(10, 20]        0\n",
       "(20, 30]        0\n",
       "(30, 40]        0\n",
       "(40, 50]        1\n",
       "(50, 60]        3\n",
       "(60, 70]        7\n",
       "(70, 80]       31\n",
       "(80, 90]       68\n",
       "(90, 100]      99\n",
       "(100, 110]    106\n",
       "(110, 120]     99\n",
       "(120, 130]     98\n",
       "(130, 140]     59\n",
       "(140, 150]     52\n",
       "(150, 160]     39\n",
       "(160, 170]     32\n",
       "(170, 180]     28\n",
       "(180, 190]     24\n",
       "(190, 200]     17\n",
       "dtype: int64"
      ]
     },
     "execution_count": 32,
     "metadata": {},
     "output_type": "execute_result"
    }
   ],
   "source": [
    "# number of units in each stratum\n",
    "grouped_g.size()"
   ]
  },
  {
   "cell_type": "code",
   "execution_count": 33,
   "id": "8c144506",
   "metadata": {},
   "outputs": [
    {
     "data": {
      "text/html": [
       "<div>\n",
       "<style scoped>\n",
       "    .dataframe tbody tr th:only-of-type {\n",
       "        vertical-align: middle;\n",
       "    }\n",
       "\n",
       "    .dataframe tbody tr th {\n",
       "        vertical-align: top;\n",
       "    }\n",
       "\n",
       "    .dataframe thead th {\n",
       "        text-align: right;\n",
       "    }\n",
       "</style>\n",
       "<table border=\"1\" class=\"dataframe\">\n",
       "  <thead>\n",
       "    <tr style=\"text-align: right;\">\n",
       "      <th></th>\n",
       "      <th>Glucose</th>\n",
       "      <th>mean</th>\n",
       "      <th>var</th>\n",
       "    </tr>\n",
       "  </thead>\n",
       "  <tbody>\n",
       "    <tr>\n",
       "      <th>0</th>\n",
       "      <td>(0, 10]</td>\n",
       "      <td>NaN</td>\n",
       "      <td>NaN</td>\n",
       "    </tr>\n",
       "    <tr>\n",
       "      <th>1</th>\n",
       "      <td>(10, 20]</td>\n",
       "      <td>NaN</td>\n",
       "      <td>NaN</td>\n",
       "    </tr>\n",
       "    <tr>\n",
       "      <th>2</th>\n",
       "      <td>(20, 30]</td>\n",
       "      <td>NaN</td>\n",
       "      <td>NaN</td>\n",
       "    </tr>\n",
       "    <tr>\n",
       "      <th>3</th>\n",
       "      <td>(30, 40]</td>\n",
       "      <td>NaN</td>\n",
       "      <td>NaN</td>\n",
       "    </tr>\n",
       "    <tr>\n",
       "      <th>4</th>\n",
       "      <td>(40, 50]</td>\n",
       "      <td>0.000000</td>\n",
       "      <td>NaN</td>\n",
       "    </tr>\n",
       "    <tr>\n",
       "      <th>5</th>\n",
       "      <td>(50, 60]</td>\n",
       "      <td>0.000000</td>\n",
       "      <td>0.000000</td>\n",
       "    </tr>\n",
       "    <tr>\n",
       "      <th>6</th>\n",
       "      <td>(60, 70]</td>\n",
       "      <td>0.000000</td>\n",
       "      <td>0.000000</td>\n",
       "    </tr>\n",
       "    <tr>\n",
       "      <th>7</th>\n",
       "      <td>(70, 80]</td>\n",
       "      <td>0.064516</td>\n",
       "      <td>0.062366</td>\n",
       "    </tr>\n",
       "    <tr>\n",
       "      <th>8</th>\n",
       "      <td>(80, 90]</td>\n",
       "      <td>0.073529</td>\n",
       "      <td>0.069140</td>\n",
       "    </tr>\n",
       "    <tr>\n",
       "      <th>9</th>\n",
       "      <td>(90, 100]</td>\n",
       "      <td>0.111111</td>\n",
       "      <td>0.099773</td>\n",
       "    </tr>\n",
       "    <tr>\n",
       "      <th>10</th>\n",
       "      <td>(100, 110]</td>\n",
       "      <td>0.226415</td>\n",
       "      <td>0.176819</td>\n",
       "    </tr>\n",
       "    <tr>\n",
       "      <th>11</th>\n",
       "      <td>(110, 120]</td>\n",
       "      <td>0.292929</td>\n",
       "      <td>0.209235</td>\n",
       "    </tr>\n",
       "    <tr>\n",
       "      <th>12</th>\n",
       "      <td>(120, 130]</td>\n",
       "      <td>0.367347</td>\n",
       "      <td>0.234799</td>\n",
       "    </tr>\n",
       "    <tr>\n",
       "      <th>13</th>\n",
       "      <td>(130, 140]</td>\n",
       "      <td>0.457627</td>\n",
       "      <td>0.252484</td>\n",
       "    </tr>\n",
       "    <tr>\n",
       "      <th>14</th>\n",
       "      <td>(140, 150]</td>\n",
       "      <td>0.519231</td>\n",
       "      <td>0.254525</td>\n",
       "    </tr>\n",
       "    <tr>\n",
       "      <th>15</th>\n",
       "      <td>(150, 160]</td>\n",
       "      <td>0.564103</td>\n",
       "      <td>0.252362</td>\n",
       "    </tr>\n",
       "    <tr>\n",
       "      <th>16</th>\n",
       "      <td>(160, 170]</td>\n",
       "      <td>0.781250</td>\n",
       "      <td>0.176411</td>\n",
       "    </tr>\n",
       "    <tr>\n",
       "      <th>17</th>\n",
       "      <td>(170, 180]</td>\n",
       "      <td>0.821429</td>\n",
       "      <td>0.152116</td>\n",
       "    </tr>\n",
       "    <tr>\n",
       "      <th>18</th>\n",
       "      <td>(180, 190]</td>\n",
       "      <td>0.916667</td>\n",
       "      <td>0.079710</td>\n",
       "    </tr>\n",
       "    <tr>\n",
       "      <th>19</th>\n",
       "      <td>(190, 200]</td>\n",
       "      <td>0.764706</td>\n",
       "      <td>0.191176</td>\n",
       "    </tr>\n",
       "  </tbody>\n",
       "</table>\n",
       "</div>"
      ],
      "text/plain": [
       "       Glucose      mean       var\n",
       "0      (0, 10]       NaN       NaN\n",
       "1     (10, 20]       NaN       NaN\n",
       "2     (20, 30]       NaN       NaN\n",
       "3     (30, 40]       NaN       NaN\n",
       "4     (40, 50]  0.000000       NaN\n",
       "5     (50, 60]  0.000000  0.000000\n",
       "6     (60, 70]  0.000000  0.000000\n",
       "7     (70, 80]  0.064516  0.062366\n",
       "8     (80, 90]  0.073529  0.069140\n",
       "9    (90, 100]  0.111111  0.099773\n",
       "10  (100, 110]  0.226415  0.176819\n",
       "11  (110, 120]  0.292929  0.209235\n",
       "12  (120, 130]  0.367347  0.234799\n",
       "13  (130, 140]  0.457627  0.252484\n",
       "14  (140, 150]  0.519231  0.254525\n",
       "15  (150, 160]  0.564103  0.252362\n",
       "16  (160, 170]  0.781250  0.176411\n",
       "17  (170, 180]  0.821429  0.152116\n",
       "18  (180, 190]  0.916667  0.079710\n",
       "19  (190, 200]  0.764706  0.191176"
      ]
     },
     "execution_count": 33,
     "metadata": {},
     "output_type": "execute_result"
    }
   ],
   "source": [
    "grouped_g['Outcome'].agg([\"mean\", \"var\"]).reset_index()"
   ]
  },
  {
   "cell_type": "code",
   "execution_count": 34,
   "id": "77305b12",
   "metadata": {},
   "outputs": [
    {
     "data": {
      "text/plain": [
       "2.210916916452024"
      ]
     },
     "execution_count": 34,
     "metadata": {},
     "output_type": "execute_result"
    }
   ],
   "source": [
    "# variance\n",
    "grouped_g['Outcome'].agg(\"var\").sum()"
   ]
  },
  {
   "cell_type": "code",
   "execution_count": 35,
   "id": "22c06279",
   "metadata": {},
   "outputs": [
    {
     "data": {
      "text/plain": [
       "<AxesSubplot:xlabel='Glucose'>"
      ]
     },
     "execution_count": 35,
     "metadata": {},
     "output_type": "execute_result"
    },
    {
     "data": {
      "image/png": "[encoded data removed]",
      "text/plain": [
       "<Figure size 432x288 with 1 Axes>"
      ]
     },
     "metadata": {
      "needs_background": "light"
     },
     "output_type": "display_data"
    }
   ],
   "source": [
    "grouped_g['Outcome'].agg([\"mean\"]).dropna().plot.bar()"
   ]
  },
  {
   "cell_type": "markdown",
   "id": "fd0ba643",
   "metadata": {},
   "source": [
    "### BloodPressure"
   ]
  },
  {
   "cell_type": "code",
   "execution_count": 36,
   "id": "2db4076e",
   "metadata": {},
   "outputs": [],
   "source": [
    "grouped_b = df.drop(df.columns[[0,1,3,4,5,6,7]],axis=1,inplace=False).groupby(\n",
    "    pd.cut(df['BloodPressure'], np.arange(0,df['BloodPressure'].max()+10,10)))"
   ]
  },
  {
   "cell_type": "code",
   "execution_count": 37,
   "id": "7fea2173",
   "metadata": {},
   "outputs": [
    {
     "data": {
      "text/plain": [
       "BloodPressure\n",
       "(0, 10]         0\n",
       "(10, 20]        0\n",
       "(20, 30]        3\n",
       "(30, 40]        2\n",
       "(40, 50]       24\n",
       "(50, 60]       94\n",
       "(60, 70]      217\n",
       "(70, 80]      228\n",
       "(80, 90]      127\n",
       "(90, 100]      25\n",
       "(100, 110]     11\n",
       "(110, 120]      1\n",
       "(120, 130]      1\n",
       "dtype: int64"
      ]
     },
     "execution_count": 37,
     "metadata": {},
     "output_type": "execute_result"
    }
   ],
   "source": [
    "# number of units in each stratum\n",
    "grouped_b.size()"
   ]
  },
  {
   "cell_type": "code",
   "execution_count": 38,
   "id": "9ad581c8",
   "metadata": {},
   "outputs": [
    {
     "data": {
      "text/html": [
       "<div>\n",
       "<style scoped>\n",
       "    .dataframe tbody tr th:only-of-type {\n",
       "        vertical-align: middle;\n",
       "    }\n",
       "\n",
       "    .dataframe tbody tr th {\n",
       "        vertical-align: top;\n",
       "    }\n",
       "\n",
       "    .dataframe thead tr th {\n",
       "        text-align: left;\n",
       "    }\n",
       "</style>\n",
       "<table border=\"1\" class=\"dataframe\">\n",
       "  <thead>\n",
       "    <tr>\n",
       "      <th></th>\n",
       "      <th colspan=\"3\" halign=\"left\">BloodPressure</th>\n",
       "      <th colspan=\"2\" halign=\"left\">Outcome</th>\n",
       "    </tr>\n",
       "    <tr>\n",
       "      <th></th>\n",
       "      <th></th>\n",
       "      <th>mean</th>\n",
       "      <th>var</th>\n",
       "      <th>mean</th>\n",
       "      <th>var</th>\n",
       "    </tr>\n",
       "  </thead>\n",
       "  <tbody>\n",
       "    <tr>\n",
       "      <th>0</th>\n",
       "      <td>(0, 10]</td>\n",
       "      <td>NaN</td>\n",
       "      <td>NaN</td>\n",
       "      <td>NaN</td>\n",
       "      <td>NaN</td>\n",
       "    </tr>\n",
       "    <tr>\n",
       "      <th>1</th>\n",
       "      <td>(10, 20]</td>\n",
       "      <td>NaN</td>\n",
       "      <td>NaN</td>\n",
       "      <td>NaN</td>\n",
       "      <td>NaN</td>\n",
       "    </tr>\n",
       "    <tr>\n",
       "      <th>2</th>\n",
       "      <td>(20, 30]</td>\n",
       "      <td>28.000000</td>\n",
       "      <td>12.000000</td>\n",
       "      <td>0.333333</td>\n",
       "      <td>0.333333</td>\n",
       "    </tr>\n",
       "    <tr>\n",
       "      <th>3</th>\n",
       "      <td>(30, 40]</td>\n",
       "      <td>39.000000</td>\n",
       "      <td>2.000000</td>\n",
       "      <td>0.500000</td>\n",
       "      <td>0.500000</td>\n",
       "    </tr>\n",
       "    <tr>\n",
       "      <th>4</th>\n",
       "      <td>(40, 50]</td>\n",
       "      <td>48.250000</td>\n",
       "      <td>5.326087</td>\n",
       "      <td>0.250000</td>\n",
       "      <td>0.195652</td>\n",
       "    </tr>\n",
       "    <tr>\n",
       "      <th>5</th>\n",
       "      <td>(50, 60]</td>\n",
       "      <td>57.297872</td>\n",
       "      <td>7.953329</td>\n",
       "      <td>0.159574</td>\n",
       "      <td>0.135553</td>\n",
       "    </tr>\n",
       "    <tr>\n",
       "      <th>6</th>\n",
       "      <td>(60, 70]</td>\n",
       "      <td>66.387097</td>\n",
       "      <td>8.367981</td>\n",
       "      <td>0.322581</td>\n",
       "      <td>0.219534</td>\n",
       "    </tr>\n",
       "    <tr>\n",
       "      <th>7</th>\n",
       "      <td>(70, 80]</td>\n",
       "      <td>75.833333</td>\n",
       "      <td>7.637298</td>\n",
       "      <td>0.359649</td>\n",
       "      <td>0.231316</td>\n",
       "    </tr>\n",
       "    <tr>\n",
       "      <th>8</th>\n",
       "      <td>(80, 90]</td>\n",
       "      <td>85.732283</td>\n",
       "      <td>8.102362</td>\n",
       "      <td>0.464567</td>\n",
       "      <td>0.250719</td>\n",
       "    </tr>\n",
       "    <tr>\n",
       "      <th>9</th>\n",
       "      <td>(90, 100]</td>\n",
       "      <td>94.920000</td>\n",
       "      <td>7.660000</td>\n",
       "      <td>0.400000</td>\n",
       "      <td>0.250000</td>\n",
       "    </tr>\n",
       "    <tr>\n",
       "      <th>10</th>\n",
       "      <td>(100, 110]</td>\n",
       "      <td>106.727273</td>\n",
       "      <td>7.418182</td>\n",
       "      <td>0.636364</td>\n",
       "      <td>0.254545</td>\n",
       "    </tr>\n",
       "    <tr>\n",
       "      <th>11</th>\n",
       "      <td>(110, 120]</td>\n",
       "      <td>114.000000</td>\n",
       "      <td>NaN</td>\n",
       "      <td>1.000000</td>\n",
       "      <td>NaN</td>\n",
       "    </tr>\n",
       "    <tr>\n",
       "      <th>12</th>\n",
       "      <td>(120, 130]</td>\n",
       "      <td>122.000000</td>\n",
       "      <td>NaN</td>\n",
       "      <td>0.000000</td>\n",
       "      <td>NaN</td>\n",
       "    </tr>\n",
       "  </tbody>\n",
       "</table>\n",
       "</div>"
      ],
      "text/plain": [
       "   BloodPressure                          Outcome          \n",
       "                        mean        var      mean       var\n",
       "0        (0, 10]         NaN        NaN       NaN       NaN\n",
       "1       (10, 20]         NaN        NaN       NaN       NaN\n",
       "2       (20, 30]   28.000000  12.000000  0.333333  0.333333\n",
       "3       (30, 40]   39.000000   2.000000  0.500000  0.500000\n",
       "4       (40, 50]   48.250000   5.326087  0.250000  0.195652\n",
       "5       (50, 60]   57.297872   7.953329  0.159574  0.135553\n",
       "6       (60, 70]   66.387097   8.367981  0.322581  0.219534\n",
       "7       (70, 80]   75.833333   7.637298  0.359649  0.231316\n",
       "8       (80, 90]   85.732283   8.102362  0.464567  0.250719\n",
       "9      (90, 100]   94.920000   7.660000  0.400000  0.250000\n",
       "10    (100, 110]  106.727273   7.418182  0.636364  0.254545\n",
       "11    (110, 120]  114.000000        NaN  1.000000       NaN\n",
       "12    (120, 130]  122.000000        NaN  0.000000       NaN"
      ]
     },
     "execution_count": 38,
     "metadata": {},
     "output_type": "execute_result"
    }
   ],
   "source": [
    "# mean and variance for each stratum\n",
    "grouped_b.agg([\"mean\", \"var\"]).reset_index()"
   ]
  },
  {
   "cell_type": "code",
   "execution_count": 39,
   "id": "d2383588",
   "metadata": {},
   "outputs": [
    {
     "data": {
      "text/plain": [
       "2.3706523531883956"
      ]
     },
     "execution_count": 39,
     "metadata": {},
     "output_type": "execute_result"
    }
   ],
   "source": [
    "grouped_b['Outcome'].agg(\"var\").sum()"
   ]
  },
  {
   "cell_type": "code",
   "execution_count": 40,
   "id": "aa695fbd",
   "metadata": {},
   "outputs": [
    {
     "data": {
      "text/plain": [
       "<AxesSubplot:xlabel='BloodPressure'>"
      ]
     },
     "execution_count": 40,
     "metadata": {},
     "output_type": "execute_result"
    },
    {
     "data": {
      "image/png": "[encoded data removed]",
      "text/plain": [
       "<Figure size 432x288 with 1 Axes>"
      ]
     },
     "metadata": {
      "needs_background": "light"
     },
     "output_type": "display_data"
    }
   ],
   "source": [
    "grouped_b['Outcome'].agg(\"mean\").dropna().plot.bar()"
   ]
  },
  {
   "cell_type": "markdown",
   "id": "f20e8f31",
   "metadata": {},
   "source": [
    "### Age"
   ]
  },
  {
   "cell_type": "code",
   "execution_count": 41,
   "id": "124b9e37",
   "metadata": {},
   "outputs": [],
   "source": [
    "# number of units in each stratum\n",
    "grouped_a = df.drop(df.columns[[0,1,2,3,4,5,6]],axis=1,inplace=False).groupby(\n",
    "    pd.cut(df['Age'], np.arange(0,df['Age'].max()+10,10)))"
   ]
  },
  {
   "cell_type": "code",
   "execution_count": 42,
   "id": "190efa97",
   "metadata": {},
   "outputs": [
    {
     "data": {
      "text/plain": [
       "Age\n",
       "(0, 10]       0\n",
       "(10, 20]      0\n",
       "(20, 30]    417\n",
       "(30, 40]    157\n",
       "(40, 50]    113\n",
       "(50, 60]     54\n",
       "(60, 70]     25\n",
       "(70, 80]      1\n",
       "(80, 90]      1\n",
       "dtype: int64"
      ]
     },
     "execution_count": 42,
     "metadata": {},
     "output_type": "execute_result"
    }
   ],
   "source": [
    "grouped_a.size()"
   ]
  },
  {
   "cell_type": "code",
   "execution_count": 43,
   "id": "ff9bc098",
   "metadata": {},
   "outputs": [
    {
     "data": {
      "text/html": [
       "<div>\n",
       "<style scoped>\n",
       "    .dataframe tbody tr th:only-of-type {\n",
       "        vertical-align: middle;\n",
       "    }\n",
       "\n",
       "    .dataframe tbody tr th {\n",
       "        vertical-align: top;\n",
       "    }\n",
       "\n",
       "    .dataframe thead th {\n",
       "        text-align: right;\n",
       "    }\n",
       "</style>\n",
       "<table border=\"1\" class=\"dataframe\">\n",
       "  <thead>\n",
       "    <tr style=\"text-align: right;\">\n",
       "      <th></th>\n",
       "      <th>Age</th>\n",
       "      <th>mean</th>\n",
       "      <th>var</th>\n",
       "    </tr>\n",
       "  </thead>\n",
       "  <tbody>\n",
       "    <tr>\n",
       "      <th>0</th>\n",
       "      <td>(0, 10]</td>\n",
       "      <td>NaN</td>\n",
       "      <td>NaN</td>\n",
       "    </tr>\n",
       "    <tr>\n",
       "      <th>1</th>\n",
       "      <td>(10, 20]</td>\n",
       "      <td>NaN</td>\n",
       "      <td>NaN</td>\n",
       "    </tr>\n",
       "    <tr>\n",
       "      <th>2</th>\n",
       "      <td>(20, 30]</td>\n",
       "      <td>0.215827</td>\n",
       "      <td>0.169653</td>\n",
       "    </tr>\n",
       "    <tr>\n",
       "      <th>3</th>\n",
       "      <td>(30, 40]</td>\n",
       "      <td>0.484076</td>\n",
       "      <td>0.251347</td>\n",
       "    </tr>\n",
       "    <tr>\n",
       "      <th>4</th>\n",
       "      <td>(40, 50]</td>\n",
       "      <td>0.566372</td>\n",
       "      <td>0.247788</td>\n",
       "    </tr>\n",
       "    <tr>\n",
       "      <th>5</th>\n",
       "      <td>(50, 60]</td>\n",
       "      <td>0.574074</td>\n",
       "      <td>0.249126</td>\n",
       "    </tr>\n",
       "    <tr>\n",
       "      <th>6</th>\n",
       "      <td>(60, 70]</td>\n",
       "      <td>0.280000</td>\n",
       "      <td>0.210000</td>\n",
       "    </tr>\n",
       "    <tr>\n",
       "      <th>7</th>\n",
       "      <td>(70, 80]</td>\n",
       "      <td>0.000000</td>\n",
       "      <td>NaN</td>\n",
       "    </tr>\n",
       "    <tr>\n",
       "      <th>8</th>\n",
       "      <td>(80, 90]</td>\n",
       "      <td>0.000000</td>\n",
       "      <td>NaN</td>\n",
       "    </tr>\n",
       "  </tbody>\n",
       "</table>\n",
       "</div>"
      ],
      "text/plain": [
       "        Age      mean       var\n",
       "0   (0, 10]       NaN       NaN\n",
       "1  (10, 20]       NaN       NaN\n",
       "2  (20, 30]  0.215827  0.169653\n",
       "3  (30, 40]  0.484076  0.251347\n",
       "4  (40, 50]  0.566372  0.247788\n",
       "5  (50, 60]  0.574074  0.249126\n",
       "6  (60, 70]  0.280000  0.210000\n",
       "7  (70, 80]  0.000000       NaN\n",
       "8  (80, 90]  0.000000       NaN"
      ]
     },
     "execution_count": 43,
     "metadata": {},
     "output_type": "execute_result"
    }
   ],
   "source": [
    "# mean and variance for each stratum\n",
    "grouped_a['Outcome'].agg([\"mean\", \"var\"]).reset_index()"
   ]
  },
  {
   "cell_type": "code",
   "execution_count": 44,
   "id": "a296f230",
   "metadata": {},
   "outputs": [
    {
     "data": {
      "text/plain": [
       "1.1279142136779086"
      ]
     },
     "execution_count": 44,
     "metadata": {},
     "output_type": "execute_result"
    }
   ],
   "source": [
    "grouped_a['Outcome'].agg(\"var\").sum()"
   ]
  },
  {
   "cell_type": "code",
   "execution_count": 45,
   "id": "c3679c16",
   "metadata": {},
   "outputs": [
    {
     "data": {
      "text/plain": [
       "<AxesSubplot:xlabel='Age'>"
      ]
     },
     "execution_count": 45,
     "metadata": {},
     "output_type": "execute_result"
    },
    {
     "data": {
      "image/png": "[encoded data removed]",
      "text/plain": [
       "<Figure size 432x288 with 1 Axes>"
      ]
     },
     "metadata": {
      "needs_background": "light"
     },
     "output_type": "display_data"
    }
   ],
   "source": [
    "grouped_a['Outcome'].agg(\"mean\").dropna().plot.bar()"
   ]
  },
  {
   "cell_type": "markdown",
   "id": "1a37fd08",
   "metadata": {},
   "source": [
    "### Attribute: Pregnancies"
   ]
  },
  {
   "cell_type": "code",
   "execution_count": 46,
   "id": "c1eba2c4",
   "metadata": {},
   "outputs": [
    {
     "data": {
      "text/plain": [
       "<pandas.core.groupby.generic.DataFrameGroupBy object at 0x0000026D819F4610>"
      ]
     },
     "execution_count": 46,
     "metadata": {},
     "output_type": "execute_result"
    }
   ],
   "source": [
    "bp = df.groupby(pd.cut(df['BloodPressure'], \n",
    "                np.arange(0,df['BloodPressure'].max(),10)))\n",
    "bp"
   ]
  },
  {
   "cell_type": "code",
   "execution_count": 47,
   "id": "aca4c4ae",
   "metadata": {
    "scrolled": true
   },
   "outputs": [],
   "source": [
    "grouped_p = df.drop(df.columns[[1,2,3,4,5,6,7]],axis=1,inplace=False).groupby('Pregnancies')"
   ]
  },
  {
   "cell_type": "code",
   "execution_count": 48,
   "id": "ec5dff63",
   "metadata": {},
   "outputs": [
    {
     "data": {
      "text/plain": [
       "array([8, 6, 9])"
      ]
     },
     "execution_count": 48,
     "metadata": {},
     "output_type": "execute_result"
    }
   ],
   "source": [
    "# randomly select 3 primary units\n",
    "rand = np.random.choice(df['Pregnancies'].max()+1, size=3, replace=False)\n",
    "rand"
   ]
  },
  {
   "cell_type": "code",
   "execution_count": 49,
   "id": "a348fbc0",
   "metadata": {
    "scrolled": false
   },
   "outputs": [
    {
     "name": "stdout",
     "output_type": "stream",
     "text": [
      "Mean: 0.4827586206896552\n"
     ]
    }
   ],
   "source": [
    "count = 0\n",
    "num_samples = 0\n",
    "for i in rand:\n",
    "    count += grouped_p.get_group(i)['Outcome'].sum()\n",
    "    num_samples += len(grouped_p.get_group(i))\n",
    "print(\"Mean:\", count/num_samples)"
   ]
  },
  {
   "cell_type": "markdown",
   "id": "049e5b3d",
   "metadata": {},
   "source": [
    "### Attribute: Glucose"
   ]
  },
  {
   "cell_type": "code",
   "execution_count": 50,
   "id": "feecfa04",
   "metadata": {},
   "outputs": [],
   "source": [
    "grouped_g = df.drop(df.columns[[0,2,3,4,5,6,7]],axis=1,inplace=False).groupby(\n",
    "    pd.cut(df['Glucose'], np.arange(0,df['Glucose'].max()+10,10)))"
   ]
  },
  {
   "cell_type": "code",
   "execution_count": 51,
   "id": "52c750b0",
   "metadata": {},
   "outputs": [
    {
     "data": {
      "text/plain": [
       "array([Interval(40, 50, closed='right'),\n",
       "       Interval(160, 170, closed='right'),\n",
       "       Interval(180, 190, closed='right')], dtype=object)"
      ]
     },
     "execution_count": 51,
     "metadata": {},
     "output_type": "execute_result"
    }
   ],
   "source": [
    "# randomly select 3 primary units\n",
    "nonempty_group_keys = []\n",
    "for k in grouped_g.groups.keys():\n",
    "    if len(grouped_g.groups.get(k)):\n",
    "        nonempty_group_keys.append(k)\n",
    "rand = np.random.choice(nonempty_group_keys, size=3, replace=False)\n",
    "rand"
   ]
  },
  {
   "cell_type": "code",
   "execution_count": 52,
   "id": "e0e323d7",
   "metadata": {},
   "outputs": [
    {
     "name": "stdout",
     "output_type": "stream",
     "text": [
      "Mean: 0.8245614035087719\n"
     ]
    }
   ],
   "source": [
    "count = 0\n",
    "num_samples = 0\n",
    "for k in rand:\n",
    "    count += grouped_g.get_group(k)['Outcome'].sum()\n",
    "    num_samples += len(grouped_g.get_group(k))\n",
    "print(\"Mean:\", count/num_samples)"
   ]
  },
  {
   "cell_type": "markdown",
   "id": "4ad1e276",
   "metadata": {},
   "source": [
    "### Attribute: BloodPressure"
   ]
  },
  {
   "cell_type": "code",
   "execution_count": 53,
   "id": "c8394b2e",
   "metadata": {},
   "outputs": [],
   "source": [
    "grouped_b = df.drop(df.columns[[0,1,3,4,5,6,7]],axis=1,inplace=False).groupby(\n",
    "    pd.cut(df['BloodPressure'], np.arange(0,df['BloodPressure'].max()+10,10)))"
   ]
  },
  {
   "cell_type": "code",
   "execution_count": 54,
   "id": "ded6be82",
   "metadata": {},
   "outputs": [
    {
     "data": {
      "text/plain": [
       "array([Interval(120, 130, closed='right'),\n",
       "       Interval(40, 50, closed='right'), Interval(30, 40, closed='right')],\n",
       "      dtype=object)"
      ]
     },
     "execution_count": 54,
     "metadata": {},
     "output_type": "execute_result"
    }
   ],
   "source": [
    "# randomly select 3 primary units\n",
    "nonempty_group_keys = []\n",
    "for k in grouped_b.groups.keys():\n",
    "    if len(grouped_b.groups.get(k)):\n",
    "        nonempty_group_keys.append(k)\n",
    "rand = np.random.choice(nonempty_group_keys, size=3, replace=False)\n",
    "rand"
   ]
  },
  {
   "cell_type": "code",
   "execution_count": 55,
   "id": "f4f1accc",
   "metadata": {
    "scrolled": true
   },
   "outputs": [
    {
     "name": "stdout",
     "output_type": "stream",
     "text": [
      "Mean: 0.25925925925925924\n"
     ]
    }
   ],
   "source": [
    "count = 0\n",
    "num_samples = 0\n",
    "for k in rand:\n",
    "    count += grouped_b.get_group(k)['Outcome'].sum()\n",
    "    num_samples += len(grouped_b.get_group(k))\n",
    "print(\"Mean:\", count/num_samples)"
   ]
  },
  {
   "cell_type": "markdown",
   "id": "1c501b48",
   "metadata": {},
   "source": [
    "### Attribute: Age"
   ]
  },
  {
   "cell_type": "code",
   "execution_count": 56,
   "id": "e5d94046",
   "metadata": {},
   "outputs": [],
   "source": [
    "grouped_a = df.drop(df.columns[[0,1,2,3,4,5,6]],axis=1,inplace=False).groupby(\n",
    "    pd.cut(df['Age'], np.arange(0,df['Age'].max()+10,10)))"
   ]
  },
  {
   "cell_type": "code",
   "execution_count": 57,
   "id": "b9b55736",
   "metadata": {},
   "outputs": [
    {
     "data": {
      "text/plain": [
       "array([Interval(70, 80, closed='right'), Interval(40, 50, closed='right'),\n",
       "       Interval(60, 70, closed='right')], dtype=object)"
      ]
     },
     "execution_count": 57,
     "metadata": {},
     "output_type": "execute_result"
    }
   ],
   "source": [
    "# randomly select 3 primary units\n",
    "nonempty_group_keys = []\n",
    "for k in grouped_a.groups.keys():\n",
    "    if len(grouped_a.groups.get(k)):\n",
    "        nonempty_group_keys.append(k)\n",
    "rand = np.random.choice(nonempty_group_keys, size=3, replace=False)\n",
    "rand"
   ]
  },
  {
   "cell_type": "code",
   "execution_count": 58,
   "id": "b7010755",
   "metadata": {},
   "outputs": [
    {
     "name": "stdout",
     "output_type": "stream",
     "text": [
      "Mean: 0.5107913669064749\n"
     ]
    }
   ],
   "source": [
    "count = 0\n",
    "num_samples = 0\n",
    "for k in rand:\n",
    "    count += grouped_a.get_group(k)['Outcome'].sum()\n",
    "    num_samples += len(grouped_a.get_group(k))\n",
    "print(\"Mean:\", count/num_samples)"
   ]
  },
  {
   "cell_type": "markdown",
   "id": "f1bb349a",
   "metadata": {},
   "source": [
    "### Analysis of Results"
   ]
  },
  {
   "cell_type": "markdown",
   "id": "5015bad5",
   "metadata": {},
   "source": [
    "Blood pressure gave the best estimate in this run, with the estimate closest to the value calculated in part 1. However, it should be noted that different runs sometimes gave different results for which attribute is the best. Since blood pressure does have higher per-stratum variance than other attributes, one of the values being as high as 0.5, the units in each stratum are not necessarily very similar to each other. This gives a less-skewed sample when performing cluster sampling by dividing the data into primary units according to blood pressure."
   ]
  }
 ],
 "metadata": {
  "kernelspec": {
   "display_name": "Python 3 (ipykernel)",
   "language": "python",
   "name": "python3"
  },
  "language_info": {
   "codemirror_mode": {
    "name": "ipython",
    "version": 3
   },
   "file_extension": ".py",
   "mimetype": "text/x-python",
   "name": "python",
   "nbconvert_exporter": "python",
   "pygments_lexer": "ipython3",
   "version": "3.9.7"
  }
 },
 "nbformat": 4,
 "nbformat_minor": 5
}
