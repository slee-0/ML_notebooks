{
 "cells": [
  {
   "cell_type": "markdown",
   "metadata": {
    "id": "ELUwY9AHq3e1"
   },
   "source": [
    "# Restricted Boltzmann Machine (RBM)"
   ]
  },
  {
   "cell_type": "markdown",
   "metadata": {
    "id": "Klf0ZjLEq3e3"
   },
   "source": [
    "Consider stochastic binary visible variables: $x\\in\\{0,1\\}^D$ and stochastic binary hidden variables: $h \\in \\{0,1\\}^H$ to model MNIST images. This will involve training a Bernoulli-Bernoulli RBM for generating images."
   ]
  },
  {
   "cell_type": "markdown",
   "metadata": {
    "id": "2U8rGh_Bq3e4"
   },
   "source": [
    "$$P(x, h) = \\frac{exp(-E(x, h))}{Z}$$\n",
    "\n",
    "where $E(x,h)$ is the energy associated with the joint configuration of (x,h). In the Bernoulli-Bernoulli RBM, $E(x, h) := -h^TWx - c^Tx - b^Th$.\n",
    "\n",
    "Using the above, we can determine the following:\n",
    "\n",
    "* Marginal of x: $P(x) = \\frac{exp(c^Tx + \\sum_{j=1}^H softplus{(b_j + W_{j.}x)} )}{Z} = \\frac{exp(-F(x))}{Z}$, where $F(x)$ is called the \"free energy\".\n",
    "* Conditionals: $p(x|h)$ and $p(h|x)$.\n",
    "\n",
    "Note: $Z = \\sum_{x,h} exp(-E(x,h)) = \\sum_x exp(-F(x)) $\n",
    "\n",
    "Objective: Minimize the Negative log-likelihood $-ln(P(x))$ of training samples:\n",
    "\n",
    "$$\n",
    "\\begin{align}\n",
    "-lnP(x) &= F(x) + ln(Z) \\\\ \\\\\n",
    "% -\\frac{\\partial lnP(x)}{\\partial \\theta} &= \\frac{\\partial F(x)}{\\partial \\theta} + \\frac{\\partial lnZ}{\\partial \\theta} \\\\\n",
    "-\\frac{\\partial lnP(x)}{\\partial \\theta} &= \\frac{\\partial F(x)}{\\partial \\theta} - \\sum_{\\tilde{x}} p(\\tilde{x}) \\frac{\\partial F(\\tilde{x})}{\\partial \\theta} \n",
    "\\end{align}\n",
    "$$\n",
    "\n",
    "where $\\tilde{x}$ denotes the negative sample. To sample $\\tilde{x}$, we use MCMC."
   ]
  },
  {
   "cell_type": "markdown",
   "metadata": {
    "id": "G9EFIBwFq3e5"
   },
   "source": [
    "**Contrastive Divergence (CD-k)**\n",
    "\n",
    "Contrastive Divergence uses two tricks to speed up the sampling process:\n",
    "\n",
    "* We initialize the Markov chain with a training example.\n",
    "* CD does not wait for the chain to converge. Samples are obtained after only k-steps of Gibbs sampling."
   ]
  },
  {
   "cell_type": "markdown",
   "metadata": {
    "id": "RvkD0Xixq3e6"
   },
   "source": [
    "### Train Bernoulli-Bernoulli RBM"
   ]
  },
  {
   "cell_type": "code",
   "execution_count": 1,
   "metadata": {
    "id": "EDY1uL8Qq3e7"
   },
   "outputs": [],
   "source": [
    "%matplotlib inline\n",
    "\n",
    "import torch\n",
    "import torch.nn as nn\n",
    "import torch.nn.functional as F\n",
    "import torch.optim\n",
    "import torch.optim as optim\n",
    "\n",
    "import torchvision\n",
    "import torchvision.transforms as transforms\n",
    "from torchvision.utils import make_grid\n",
    "\n",
    "import matplotlib.pyplot as plt\n",
    "import numpy as np"
   ]
  },
  {
   "cell_type": "markdown",
   "metadata": {
    "id": "-uuuQBBkq3e9"
   },
   "source": [
    "## Setup dataloader"
   ]
  },
  {
   "cell_type": "code",
   "execution_count": 2,
   "metadata": {
    "colab": {
     "base_uri": "https://localhost:8080/",
     "height": 451,
     "referenced_widgets": [
      "74ac6787e7384f119564132272b3d190",
      "94ab5c059a5e48429c2f8335782df076",
      "441cbf58603e465bace0666a09a0d2e9",
      "58e1e57c5f49466baf521665dc584730",
      "fe57998bab944483ba01977714016713",
      "855783b5fb2d4dcca62eb99968cdfbdf",
      "b82f5624fcf94310a24b576df6d8230b",
      "aa90463aa203491ca749bac716bf2374",
      "89cc9358c7694c7c94db4b920c95d3b3",
      "b34642f353a5454f9933e4e4b959a611",
      "4ff6084f10414405a60ed7b00507eed6",
      "8ef4d9b3e7194c4ab536727f17e18c4d",
      "c18d8142b3904b2a9f74f706ca5b34d0",
      "eeb864e02499431fabbab564195ad08d",
      "afa2955b38834ae6a24d47d7d9e92c77",
      "1b8900c22b2e4942a74b0e922403dc6c",
      "9c1f969b638449e59644263b998abcf5",
      "6f888848e1964d69892c6cf32993aaa4",
      "4e4f623e71044474857213dfc20b2936",
      "e93bbe79f6cf493e83f62d4f6d222c49",
      "f5d47673e29e48049ca35328e34a1287",
      "4086bf917ca54ddf9420a242c1d75683",
      "00e99cda9e184300b16d8d273c90f398",
      "0f15e6835f704a00a970e8c1266a91d2",
      "643483441a92466aa9768dd4d6c8b926",
      "a06f4968cfed498fb53084658aa5f2ab",
      "c1ff892002464298bea68166340fc193",
      "51f8d949aa824e41ba8f35180e35697b",
      "dce669c6ffad4396a571f343b8e9effa",
      "3f2b977fe4aa4547a3d49a353fb8b21e",
      "f501c5ee2a8a45cf8116222149f0e574",
      "6d80a682f6f546aabdf7cd44ea2e5332",
      "48f81e3105664b14851d86b9f8bec0eb",
      "bf4b5126fd60422abf366d998c2b6f1e",
      "82c3b5bcdcdb4060b6edbf9d64b2e17d",
      "3145b846ee8745e6973029eea375645b",
      "599ce7edae9940f395ed3e4b2d84c1f3",
      "c9dde890d3d3443181abda0855cdaf6c",
      "e0e24996769d4c40adb02e83bd629ea6",
      "9b22a58245a54cf598de4a1c3bdccb0d",
      "b8f480f7a4a747d98fd304996c542033",
      "b9179ceb2f964ed89d23ca487cedecf7",
      "fe00f6919d5743cd9d04b83cd8c2df9c",
      "782e31a88c2b49d4be6c17ccc3582620"
     ]
    },
    "id": "qBHo9vUoq3e-",
    "outputId": "5efc4258-9c11-4696-d0ed-a7fcd9863a8f"
   },
   "outputs": [
    {
     "name": "stdout",
     "output_type": "stream",
     "text": [
      "Downloading http://yann.lecun.com/exdb/mnist/train-images-idx3-ubyte.gz\n",
      "Downloading http://yann.lecun.com/exdb/mnist/train-images-idx3-ubyte.gz to ./data/MNIST/raw/train-images-idx3-ubyte.gz\n"
     ]
    },
    {
     "data": {
      "application/vnd.jupyter.widget-view+json": {
       "model_id": "74ac6787e7384f119564132272b3d190",
       "version_major": 2,
       "version_minor": 0
      },
      "text/plain": [
       "  0%|          | 0/9912422 [00:00<?, ?it/s]"
      ]
     },
     "metadata": {},
     "output_type": "display_data"
    },
    {
     "name": "stdout",
     "output_type": "stream",
     "text": [
      "Extracting ./data/MNIST/raw/train-images-idx3-ubyte.gz to ./data/MNIST/raw\n",
      "\n",
      "Downloading http://yann.lecun.com/exdb/mnist/train-labels-idx1-ubyte.gz\n",
      "Downloading http://yann.lecun.com/exdb/mnist/train-labels-idx1-ubyte.gz to ./data/MNIST/raw/train-labels-idx1-ubyte.gz\n"
     ]
    },
    {
     "data": {
      "application/vnd.jupyter.widget-view+json": {
       "model_id": "8ef4d9b3e7194c4ab536727f17e18c4d",
       "version_major": 2,
       "version_minor": 0
      },
      "text/plain": [
       "  0%|          | 0/28881 [00:00<?, ?it/s]"
      ]
     },
     "metadata": {},
     "output_type": "display_data"
    },
    {
     "name": "stdout",
     "output_type": "stream",
     "text": [
      "Extracting ./data/MNIST/raw/train-labels-idx1-ubyte.gz to ./data/MNIST/raw\n",
      "\n",
      "Downloading http://yann.lecun.com/exdb/mnist/t10k-images-idx3-ubyte.gz\n",
      "Downloading http://yann.lecun.com/exdb/mnist/t10k-images-idx3-ubyte.gz to ./data/MNIST/raw/t10k-images-idx3-ubyte.gz\n"
     ]
    },
    {
     "data": {
      "application/vnd.jupyter.widget-view+json": {
       "model_id": "00e99cda9e184300b16d8d273c90f398",
       "version_major": 2,
       "version_minor": 0
      },
      "text/plain": [
       "  0%|          | 0/1648877 [00:00<?, ?it/s]"
      ]
     },
     "metadata": {},
     "output_type": "display_data"
    },
    {
     "name": "stdout",
     "output_type": "stream",
     "text": [
      "Extracting ./data/MNIST/raw/t10k-images-idx3-ubyte.gz to ./data/MNIST/raw\n",
      "\n",
      "Downloading http://yann.lecun.com/exdb/mnist/t10k-labels-idx1-ubyte.gz\n",
      "Downloading http://yann.lecun.com/exdb/mnist/t10k-labels-idx1-ubyte.gz to ./data/MNIST/raw/t10k-labels-idx1-ubyte.gz\n"
     ]
    },
    {
     "data": {
      "application/vnd.jupyter.widget-view+json": {
       "model_id": "bf4b5126fd60422abf366d998c2b6f1e",
       "version_major": 2,
       "version_minor": 0
      },
      "text/plain": [
       "  0%|          | 0/4542 [00:00<?, ?it/s]"
      ]
     },
     "metadata": {},
     "output_type": "display_data"
    },
    {
     "name": "stdout",
     "output_type": "stream",
     "text": [
      "Extracting ./data/MNIST/raw/t10k-labels-idx1-ubyte.gz to ./data/MNIST/raw\n",
      "\n"
     ]
    }
   ],
   "source": [
    "batch_size = 128\n",
    "train_set, test_set, train_loader, test_loader = {},{},{},{}\n",
    "transform = transforms.Compose(\n",
    "    [transforms.ToTensor()])\n",
    "\n",
    "train_set['mnist'] = torchvision.datasets.MNIST(root='./data', train=True, download=True, transform=transform)\n",
    "test_set['mnist'] = torchvision.datasets.MNIST(root='./data', train=False, download=True, transform=transform)\n",
    "\n",
    "train_loader['mnist'] = torch.utils.data.DataLoader(train_set['mnist'], batch_size=batch_size, shuffle=True, num_workers=0)\n",
    "test_loader['mnist'] = torch.utils.data.DataLoader(test_set['mnist'], batch_size=batch_size, shuffle=False, num_workers=0)\n",
    "\n",
    "device = 'cuda'"
   ]
  },
  {
   "cell_type": "code",
   "execution_count": 3,
   "metadata": {
    "id": "xOHPPUgTq3e_"
   },
   "outputs": [],
   "source": [
    "class RBM(nn.Module):\n",
    "    \"\"\"Restricted Boltzmann Machine for generating MNIST images.\"\"\"\n",
    "    \n",
    "    def __init__(self, D: int, F: int, k: int):\n",
    "        \"\"\"Creates an instance RBM module.\n",
    "            \n",
    "            Args:\n",
    "                D: Size of the input data.\n",
    "                F: Size of the hidden variable.\n",
    "                k: Number of MCMC iterations for negative sampling.\n",
    "                \n",
    "            The function initializes the weight (W) and biases (c & b).\n",
    "        \"\"\"\n",
    "        \n",
    "        super(RBM, self).__init__()\n",
    "        self.W = nn.Parameter(torch.randn(F, D)* 1e-2) # Initialized from Normal(mean=0.0, variance=1e-4)\n",
    "        self.c = nn.Parameter(torch.zeros(D)) # Initialized as 0.0\n",
    "        self.b = nn.Parameter(torch.zeros(F)) # Initilaized as 0.0\n",
    "        self.k = k\n",
    "    \n",
    "    def sample(self, p):\n",
    "        \"\"\"Sample from a bernoulli distribution defined by a given parameter.\n",
    "        \n",
    "           Args:\n",
    "                p: Parameter of the bernoulli distribution.\n",
    "           \n",
    "           Returns:\n",
    "               bern_sample: Sample from Bernoulli(p)\n",
    "        \"\"\"\n",
    "        \n",
    "        bern_sample = p.bernoulli()\n",
    "        return bern_sample\n",
    "    \n",
    "    def P_h_x(self, x):\n",
    "        \"\"\"Returns the conditional P(h|x). (Slide 9, Lecture 14)\n",
    "        \n",
    "        Args:\n",
    "            x: The parameter of the conditional h|x.\n",
    "        \n",
    "        Returns:\n",
    "            ph_x: probability of hidden vector being element-wise 1.\n",
    "        \"\"\"\n",
    "        print(\"P_h_x, x:\", x.shape)\n",
    "        print(\"P_h_x, W:\", self.W.shape)\n",
    "        ph_x = torch.sigmoid(F.linear(x, self.W, self.b)) # n_batch x F\n",
    "        print(\"P_h_x, ph_x (output):\", ph_x.shape)\n",
    "        return ph_x\n",
    "    \n",
    "    def P_x_h(self, h):\n",
    "        \"\"\"Returns the conditional P(x|h). (Slide 9, Lecture 14)\n",
    "        \n",
    "        Args:\n",
    "            h: The parameter of the conditional x|h.\n",
    "        \n",
    "        Returns:\n",
    "            px_h: probability of visible vector being element-wise 1.\n",
    "        \"\"\"\n",
    "        print(\"P_x_h, h\", h.shape)\n",
    "        print(\"P_x_h, W\", self.W.shape)\n",
    "        mean = F.linear(h, self.W.t(), self.c) # 128 784\n",
    "        print(\"P_x_h, mean\", mean.shape)\n",
    "        print(\"P_x_h, output\", torch.normal(mean, 1).shape)\n",
    "        px_h = torch.normal(mean, 1)\n",
    "\n",
    "        # px_h = torch.sigmoid(F.linear(h, self.W.t(), self.c)) # n_batch x D\n",
    "        print(\"P_x_h, px_h\", px_h.shape)\n",
    "\n",
    "        return px_h\n",
    "\n",
    "    def free_energy(self, x):\n",
    "        \"\"\"Returns the Average energy. (Slide 11, Lecture 14).\"\"\"\n",
    "        # Wx = self.W.matmul(x.t())\n",
    "        # print(\"Wx\", Wx.shape)\n",
    "        # hWx = self.P_h_x(x).t().matmul(Wx.t())\n",
    "        # print(\"hWx\", hWx.shape)\n",
    "        # cx = self.c.t().matmul(x.t()) # n_batch x 1\n",
    "        # print(\"cx\", cx.shape)\n",
    "        # bh = self.b.t().matmul(self.P_h_x(x).t())  \n",
    "        # print(\"bh\", bh.shape)\n",
    "        # xx = x.t().matmul(x) # vector product\n",
    "        # print(\"xx\", xx.shape)\n",
    "        print(\"start free_energy method\")\n",
    "        Wx = F.linear(x, self.W)\n",
    "        h = self.P_h_x(x)\n",
    "        hWx = F.linear(Wx, h)\n",
    "        print(\"hWx\", hWx.shape)\n",
    "        cx = F.linear(x, self.c)\n",
    "        print(\"cx\", cx.shape)\n",
    "        bh = F.linear(h, self.b)\n",
    "        print(\"bh\", bh.shape)\n",
    "        s = x.shape[1]\n",
    "        xx = torch.bmm(x.view(128, 1, s), x.view(128, s, 1)) # torch.bmm(x.unsqueeze(1), x.unsqueeze(2)\n",
    "        print(\"xx\", xx.shape)\n",
    "        print(\"free_energy output\", (-hWx -cx -bh + 0.5*xx).mean().shape)\n",
    "        return (-hWx -cx -bh + 0.5*xx).mean()\n",
    "\n",
    "        # vbias_term = x.mv(self.c) # n_batch x 1\n",
    "        # wv_b = F.linear(x, self.W, self.b) # n_batch x F\n",
    "        # hidden_term = F.softplus(wv_b).sum(dim=1) # n_batch x 1\n",
    "        # print(\"original mean size\", (-hidden_term - vbias_term).mean().shape)\n",
    "        # return (-hidden_term - vbias_term).mean() # 1 x 1 \n",
    "    \n",
    "    def forward(self, x):\n",
    "        \"\"\"Generates x_negative using MCMC Gibbs sampling starting from x.\"\"\"\n",
    "        print(\"start forward\")\n",
    "        print(\"argument x to forward\", x.shape)\n",
    "        x_negative = x\n",
    "        for i in range(self.k):\n",
    "            print(\"forward loop\", i)\n",
    "            ## Step 1: Sample h from previous iteration.\n",
    "            # Get the conditional prob h|x\n",
    "            phx_k = self.P_h_x(x_negative) \n",
    "            print(\"forward, phx_k\",phx_k.shape)\n",
    "            # Sample from h|x\n",
    "            h_negative = self.sample(phx_k)\n",
    "            print(\"forward, sample(phx_k)\", h_negative.shape)\n",
    "            \n",
    "            ## Step 2: Sample x using h from step 1.\n",
    "            # Get the conditional proba x|h\n",
    "            pxh_k = self.P_x_h(h_negative)\n",
    "            print(\"forward, pxh_k\", pxh_k.shape)\n",
    "            # Sample from x|h\n",
    "            x_negative = self.sample(pxh_k)\n",
    "            print(\"forward, sample(pxh_k)\", x_negative.shape)\n",
    "        print(\"forward end\")\n",
    "        return x_negative, pxh_k"
   ]
  },
  {
   "cell_type": "code",
   "execution_count": 4,
   "metadata": {
    "id": "em8VQJeO9RRC"
   },
   "outputs": [],
   "source": [
    "DD = 2\n",
    "FF = 3\n",
    "WW = torch.randint(10,(FF, DD)) # Initialized from Normal(mean=0.0, variance=1e-4)\n",
    "cc = torch.randint(10,(DD,)) # Initialized as 0.0\n",
    "bb = torch.randint(10,(FF,))"
   ]
  },
  {
   "cell_type": "code",
   "execution_count": 5,
   "metadata": {
    "colab": {
     "base_uri": "https://localhost:8080/"
    },
    "id": "Qe4RPCyr-VYj",
    "outputId": "1c2838fd-203b-4428-930e-beaab9a498c7"
   },
   "outputs": [
    {
     "data": {
      "text/plain": [
       "tensor([84, 95, 54])"
      ]
     },
     "execution_count": 5,
     "metadata": {},
     "output_type": "execute_result"
    }
   ],
   "source": [
    "F.linear(cc,WW)"
   ]
  },
  {
   "cell_type": "code",
   "execution_count": 6,
   "metadata": {
    "colab": {
     "base_uri": "https://localhost:8080/"
    },
    "id": "JGA153G49YeT",
    "outputId": "804f840e-966b-4267-8ae4-f5b5aab464d7"
   },
   "outputs": [
    {
     "data": {
      "text/plain": [
       "tensor([84, 95, 54])"
      ]
     },
     "execution_count": 6,
     "metadata": {},
     "output_type": "execute_result"
    }
   ],
   "source": [
    "WW.matmul(cc.t())"
   ]
  },
  {
   "cell_type": "code",
   "execution_count": 7,
   "metadata": {
    "colab": {
     "base_uri": "https://localhost:8080/"
    },
    "id": "XYKw8VMd-JpE",
    "outputId": "642db849-bc51-44cb-9f2a-806bcfca05a6"
   },
   "outputs": [
    {
     "data": {
      "text/plain": [
       "tensor([2, 8, 5])"
      ]
     },
     "execution_count": 7,
     "metadata": {},
     "output_type": "execute_result"
    }
   ],
   "source": [
    "bb"
   ]
  },
  {
   "cell_type": "code",
   "execution_count": 8,
   "metadata": {
    "id": "Ip9mipIk0DWp"
   },
   "outputs": [],
   "source": [
    "a=torch.arange(0,10).view(5,2)\n",
    "b=torch.arange(0,20).view(2,10)"
   ]
  },
  {
   "cell_type": "code",
   "execution_count": 9,
   "metadata": {
    "colab": {
     "base_uri": "https://localhost:8080/"
    },
    "id": "Uct-REvL0r2Y",
    "outputId": "84ffcf73-c77f-4617-df09-79357683a34d"
   },
   "outputs": [
    {
     "data": {
      "text/plain": [
       "tensor([[ 10,  11,  12,  13,  14,  15,  16,  17,  18,  19],\n",
       "        [ 30,  35,  40,  45,  50,  55,  60,  65,  70,  75],\n",
       "        [ 50,  59,  68,  77,  86,  95, 104, 113, 122, 131],\n",
       "        [ 70,  83,  96, 109, 122, 135, 148, 161, 174, 187],\n",
       "        [ 90, 107, 124, 141, 158, 175, 192, 209, 226, 243]])"
      ]
     },
     "execution_count": 9,
     "metadata": {},
     "output_type": "execute_result"
    }
   ],
   "source": [
    "a.matmul(b)"
   ]
  },
  {
   "cell_type": "code",
   "execution_count": 10,
   "metadata": {
    "colab": {
     "base_uri": "https://localhost:8080/"
    },
    "id": "OC2HLDu-0bsf",
    "outputId": "e96d42db-94ca-4c23-9774-5f6e07b88021"
   },
   "outputs": [
    {
     "data": {
      "text/plain": [
       "tensor([[ 10,  11,  12,  13,  14,  15,  16,  17,  18,  19],\n",
       "        [ 30,  35,  40,  45,  50,  55,  60,  65,  70,  75],\n",
       "        [ 50,  59,  68,  77,  86,  95, 104, 113, 122, 131],\n",
       "        [ 70,  83,  96, 109, 122, 135, 148, 161, 174, 187],\n",
       "        [ 90, 107, 124, 141, 158, 175, 192, 209, 226, 243]])"
      ]
     },
     "execution_count": 10,
     "metadata": {},
     "output_type": "execute_result"
    }
   ],
   "source": [
    "F.linear(a,b.t())"
   ]
  },
  {
   "cell_type": "markdown",
   "metadata": {
    "id": "icslxaC5q3fB"
   },
   "source": [
    "## Define train and test functions"
   ]
  },
  {
   "cell_type": "code",
   "execution_count": 11,
   "metadata": {
    "id": "_oQU9hO4q3fB"
   },
   "outputs": [],
   "source": [
    "def train(model, device, train_loader, optimizer, epoch):\n",
    "    \n",
    "    train_loss = 0\n",
    "    model.train()\n",
    "    \n",
    "    for batch_idx, (data, target) in enumerate(train_loader):\n",
    "        \n",
    "        # torchvision provides us with normalized data, s.t. input is in [0,1]\n",
    "        data = data.view(data.size(0),-1) # flatten the array: Converts n_batchx1x28x28 to n_batchx784\n",
    "        data = data.bernoulli() \n",
    "        data = data.to(device)\n",
    "        print(\"data\", data.shape)\n",
    "        \n",
    "        optimizer.zero_grad()\n",
    "        \n",
    "        x_tilde, _ = model(data)\n",
    "        x_tilde = x_tilde.detach()\n",
    "        print(\"x_tilde\", x_tilde.shape)\n",
    "\n",
    "        print(\"now compute model.free_energy(data) - model.free_energy(tilde)\")\n",
    "        loss = model.free_energy(data) - model.free_energy(x_tilde)\n",
    "        loss.backward()\n",
    "        optimizer.step()\n",
    "        print(\"loss shape\", loss.shape)\n",
    "        train_loss += loss.item()\n",
    "        \n",
    "        if (batch_idx+1) % (len(train_loader)//2) == 0:\n",
    "            print('Train({})[{:.0f}%]: Loss: {:.4f}'.format(\n",
    "                epoch, 100. * batch_idx / len(train_loader), train_loss/(batch_idx+1)))\n",
    "\n",
    "def test(model, device, test_loader, epoch):\n",
    "    \n",
    "    model.eval()\n",
    "    test_loss = 0\n",
    "    \n",
    "    with torch.no_grad():\n",
    "        for data, target in test_loader:\n",
    "            data = data.view(data.size(0),-1)\n",
    "            data = data.bernoulli()\n",
    "            data = data.to(device)\n",
    "            xh_k,_ = model(data)\n",
    "            loss = model.free_energy(data) - model.free_energy(xh_k)\n",
    "            test_loss += loss.item() # sum up batch loss\n",
    "    \n",
    "    test_loss = (test_loss*batch_size)/len(test_loader.dataset)\n",
    "    print('Test({}): Loss: {:.4f}'.format(epoch, test_loss))"
   ]
  },
  {
   "cell_type": "markdown",
   "metadata": {
    "id": "WJJEBmH7q3fC"
   },
   "source": [
    "## __Define make_optimizer and make_schedule__"
   ]
  },
  {
   "cell_type": "code",
   "execution_count": 12,
   "metadata": {
    "id": "ARaTgySOq3fC"
   },
   "outputs": [],
   "source": [
    "def make_optimizer(optimizer_name, model, **kwargs):\n",
    "    if optimizer_name=='Adam':\n",
    "        optimizer = optim.Adam(model.parameters(),lr=kwargs['lr'])\n",
    "    elif optimizer_name=='SGD':\n",
    "        optimizer = optim.SGD(model.parameters(),lr=kwargs['lr'],momentum=kwargs.get('momentum', 0.), \n",
    "                              weight_decay=kwargs.get('weight_decay', 0.))\n",
    "    else:\n",
    "        raise ValueError('Not valid optimizer name')\n",
    "    return optimizer\n",
    "    \n",
    "def make_scheduler(scheduler_name, optimizer, **kwargs):\n",
    "    if scheduler_name=='MultiStepLR':\n",
    "        scheduler = optim.lr_scheduler.MultiStepLR(optimizer,milestones=kwargs['milestones'],gamma=kwargs['factor'])\n",
    "    else:\n",
    "        raise ValueError('Not valid scheduler name')\n",
    "    return scheduler"
   ]
  },
  {
   "cell_type": "code",
   "execution_count": 13,
   "metadata": {
    "id": "gOeUkJQCq3fD"
   },
   "outputs": [],
   "source": [
    "# General variables\n",
    "\n",
    "seed = 1\n",
    "data_name = 'mnist'\n",
    "optimizer_name = 'Adam'\n",
    "scheduler_name = 'MultiStepLR'\n",
    "num_epochs = 10\n",
    "lr = 0.001\n"
   ]
  },
  {
   "cell_type": "code",
   "execution_count": 14,
   "metadata": {
    "colab": {
     "base_uri": "https://localhost:8080/",
     "height": 1000
    },
    "id": "8mRbFoUqq3fD",
    "outputId": "7f4f5833-0072-4e42-ff79-5991002ed853"
   },
   "outputs": [
    {
     "name": "stdout",
     "output_type": "stream",
     "text": [
      "data torch.Size([128, 784])\n",
      "start forward\n",
      "argument x to forward torch.Size([128, 784])\n",
      "forward loop 0\n",
      "P_h_x, x: torch.Size([128, 784])\n",
      "P_h_x, W: torch.Size([400, 784])\n",
      "P_h_x, ph_x (output): torch.Size([128, 400])\n",
      "forward, phx_k torch.Size([128, 400])\n",
      "forward, sample(phx_k) torch.Size([128, 400])\n",
      "P_x_h, h torch.Size([128, 400])\n",
      "P_x_h, W torch.Size([400, 784])\n",
      "P_x_h, mean torch.Size([128, 784])\n",
      "P_x_h, output torch.Size([128, 784])\n",
      "P_x_h, px_h torch.Size([128, 784])\n",
      "forward, pxh_k torch.Size([128, 784])\n",
      "forward, sample(pxh_k) torch.Size([128, 784])\n",
      "forward loop 1\n",
      "P_h_x, x: torch.Size([128, 784])\n",
      "P_h_x, W: torch.Size([400, 784])\n",
      "P_h_x, ph_x (output): torch.Size([128, 400])\n",
      "forward, phx_k torch.Size([128, 400])\n",
      "forward, sample(phx_k) torch.Size([128, 400])\n",
      "P_x_h, h torch.Size([128, 400])\n",
      "P_x_h, W torch.Size([400, 784])\n",
      "P_x_h, mean torch.Size([128, 784])\n",
      "P_x_h, output torch.Size([128, 784])\n",
      "P_x_h, px_h torch.Size([128, 784])\n",
      "forward, pxh_k torch.Size([128, 784])\n",
      "forward, sample(pxh_k) torch.Size([128, 784])\n",
      "forward loop 2\n",
      "P_h_x, x: torch.Size([128, 784])\n",
      "P_h_x, W: torch.Size([400, 784])\n",
      "P_h_x, ph_x (output): torch.Size([128, 400])\n",
      "forward, phx_k torch.Size([128, 400])\n",
      "forward, sample(phx_k) torch.Size([128, 400])\n",
      "P_x_h, h torch.Size([128, 400])\n",
      "P_x_h, W torch.Size([400, 784])\n",
      "P_x_h, mean torch.Size([128, 784])\n",
      "P_x_h, output torch.Size([128, 784])\n",
      "P_x_h, px_h torch.Size([128, 784])\n",
      "forward, pxh_k torch.Size([128, 784])\n",
      "forward, sample(pxh_k) torch.Size([128, 784])\n",
      "forward loop 3\n",
      "P_h_x, x: torch.Size([128, 784])\n",
      "P_h_x, W: torch.Size([400, 784])\n",
      "P_h_x, ph_x (output): torch.Size([128, 400])\n",
      "forward, phx_k torch.Size([128, 400])\n",
      "forward, sample(phx_k) torch.Size([128, 400])\n",
      "P_x_h, h torch.Size([128, 400])\n",
      "P_x_h, W torch.Size([400, 784])\n",
      "P_x_h, mean torch.Size([128, 784])\n",
      "P_x_h, output torch.Size([128, 784])\n",
      "P_x_h, px_h torch.Size([128, 784])\n",
      "forward, pxh_k torch.Size([128, 784])\n",
      "forward, sample(pxh_k) torch.Size([128, 784])\n",
      "forward loop 4\n",
      "P_h_x, x: torch.Size([128, 784])\n",
      "P_h_x, W: torch.Size([400, 784])\n",
      "P_h_x, ph_x (output): torch.Size([128, 400])\n",
      "forward, phx_k torch.Size([128, 400])\n",
      "forward, sample(phx_k) torch.Size([128, 400])\n",
      "P_x_h, h torch.Size([128, 400])\n",
      "P_x_h, W torch.Size([400, 784])\n",
      "P_x_h, mean torch.Size([128, 784])\n",
      "P_x_h, output torch.Size([128, 784])\n",
      "P_x_h, px_h torch.Size([128, 784])\n",
      "forward, pxh_k torch.Size([128, 784])\n",
      "forward, sample(pxh_k) torch.Size([128, 784])\n",
      "forward end\n",
      "x_tilde torch.Size([128, 784])\n",
      "now compute model.free_energy(data) - model.free_energy(tilde)\n",
      "start free_energy method\n",
      "P_h_x, x: torch.Size([128, 784])\n",
      "P_h_x, W: torch.Size([400, 784])\n",
      "P_h_x, ph_x (output): torch.Size([128, 400])\n",
      "hWx torch.Size([128, 128])\n",
      "cx torch.Size([128])\n",
      "bh torch.Size([128])\n",
      "xx torch.Size([128, 1, 1])\n",
      "free_energy output torch.Size([])\n",
      "start free_energy method\n",
      "P_h_x, x: torch.Size([128, 784])\n",
      "P_h_x, W: torch.Size([400, 784])\n"
     ]
    },
    {
     "ename": "RuntimeError",
     "evalue": "ignored",
     "output_type": "error",
     "traceback": [
      "\u001b[0;31m---------------------------------------------------------------------------\u001b[0m",
      "\u001b[0;31mRuntimeError\u001b[0m                              Traceback (most recent call last)",
      "\u001b[0;32m<ipython-input-14-9401945a0bf2>\u001b[0m in \u001b[0;36m<module>\u001b[0;34m\u001b[0m\n\u001b[1;32m      9\u001b[0m \u001b[0;32mfor\u001b[0m \u001b[0mepoch\u001b[0m \u001b[0;32min\u001b[0m \u001b[0mrange\u001b[0m\u001b[0;34m(\u001b[0m\u001b[0;36m1\u001b[0m\u001b[0;34m,\u001b[0m \u001b[0mnum_epochs\u001b[0m \u001b[0;34m+\u001b[0m \u001b[0;36m1\u001b[0m\u001b[0;34m)\u001b[0m\u001b[0;34m:\u001b[0m\u001b[0;34m\u001b[0m\u001b[0;34m\u001b[0m\u001b[0m\n\u001b[1;32m     10\u001b[0m \u001b[0;34m\u001b[0m\u001b[0m\n\u001b[0;32m---> 11\u001b[0;31m     \u001b[0mtrain\u001b[0m\u001b[0;34m(\u001b[0m\u001b[0mrbm\u001b[0m\u001b[0;34m,\u001b[0m \u001b[0mdevice\u001b[0m\u001b[0;34m,\u001b[0m \u001b[0mtrain_loader\u001b[0m\u001b[0;34m[\u001b[0m\u001b[0mdata_name\u001b[0m\u001b[0;34m]\u001b[0m\u001b[0;34m,\u001b[0m \u001b[0moptimizer\u001b[0m\u001b[0;34m,\u001b[0m \u001b[0mepoch\u001b[0m\u001b[0;34m)\u001b[0m\u001b[0;34m\u001b[0m\u001b[0;34m\u001b[0m\u001b[0m\n\u001b[0m\u001b[1;32m     12\u001b[0m     \u001b[0mtest\u001b[0m\u001b[0;34m(\u001b[0m\u001b[0mrbm\u001b[0m\u001b[0;34m,\u001b[0m \u001b[0mdevice\u001b[0m\u001b[0;34m,\u001b[0m \u001b[0mtest_loader\u001b[0m\u001b[0;34m[\u001b[0m\u001b[0mdata_name\u001b[0m\u001b[0;34m]\u001b[0m\u001b[0;34m,\u001b[0m \u001b[0mepoch\u001b[0m\u001b[0;34m)\u001b[0m\u001b[0;34m\u001b[0m\u001b[0;34m\u001b[0m\u001b[0m\n\u001b[1;32m     13\u001b[0m     \u001b[0mscheduler\u001b[0m\u001b[0;34m.\u001b[0m\u001b[0mstep\u001b[0m\u001b[0;34m(\u001b[0m\u001b[0;34m)\u001b[0m\u001b[0;34m\u001b[0m\u001b[0;34m\u001b[0m\u001b[0m\n",
      "\u001b[0;32m<ipython-input-11-e845e5a78c84>\u001b[0m in \u001b[0;36mtrain\u001b[0;34m(model, device, train_loader, optimizer, epoch)\u001b[0m\n\u001b[1;32m     19\u001b[0m \u001b[0;34m\u001b[0m\u001b[0m\n\u001b[1;32m     20\u001b[0m         \u001b[0mprint\u001b[0m\u001b[0;34m(\u001b[0m\u001b[0;34m\"now compute model.free_energy(data) - model.free_energy(tilde)\"\u001b[0m\u001b[0;34m)\u001b[0m\u001b[0;34m\u001b[0m\u001b[0;34m\u001b[0m\u001b[0m\n\u001b[0;32m---> 21\u001b[0;31m         \u001b[0mloss\u001b[0m \u001b[0;34m=\u001b[0m \u001b[0mmodel\u001b[0m\u001b[0;34m.\u001b[0m\u001b[0mfree_energy\u001b[0m\u001b[0;34m(\u001b[0m\u001b[0mdata\u001b[0m\u001b[0;34m)\u001b[0m \u001b[0;34m-\u001b[0m \u001b[0mmodel\u001b[0m\u001b[0;34m.\u001b[0m\u001b[0mfree_energy\u001b[0m\u001b[0;34m(\u001b[0m\u001b[0mx_tilde\u001b[0m\u001b[0;34m)\u001b[0m\u001b[0;34m\u001b[0m\u001b[0;34m\u001b[0m\u001b[0m\n\u001b[0m\u001b[1;32m     22\u001b[0m         \u001b[0mloss\u001b[0m\u001b[0;34m.\u001b[0m\u001b[0mbackward\u001b[0m\u001b[0;34m(\u001b[0m\u001b[0;34m)\u001b[0m\u001b[0;34m\u001b[0m\u001b[0;34m\u001b[0m\u001b[0m\n\u001b[1;32m     23\u001b[0m         \u001b[0moptimizer\u001b[0m\u001b[0;34m.\u001b[0m\u001b[0mstep\u001b[0m\u001b[0;34m(\u001b[0m\u001b[0;34m)\u001b[0m\u001b[0;34m\u001b[0m\u001b[0;34m\u001b[0m\u001b[0m\n",
      "\u001b[0;32m<ipython-input-3-7af35b1aa570>\u001b[0m in \u001b[0;36mfree_energy\u001b[0;34m(self, x)\u001b[0m\n\u001b[1;32m     82\u001b[0m         \u001b[0mprint\u001b[0m\u001b[0;34m(\u001b[0m\u001b[0;34m\"start free_energy method\"\u001b[0m\u001b[0;34m)\u001b[0m\u001b[0;34m\u001b[0m\u001b[0;34m\u001b[0m\u001b[0m\n\u001b[1;32m     83\u001b[0m         \u001b[0mWx\u001b[0m \u001b[0;34m=\u001b[0m \u001b[0mF\u001b[0m\u001b[0;34m.\u001b[0m\u001b[0mlinear\u001b[0m\u001b[0;34m(\u001b[0m\u001b[0mx\u001b[0m\u001b[0;34m,\u001b[0m \u001b[0mself\u001b[0m\u001b[0;34m.\u001b[0m\u001b[0mW\u001b[0m\u001b[0;34m)\u001b[0m\u001b[0;34m\u001b[0m\u001b[0;34m\u001b[0m\u001b[0m\n\u001b[0;32m---> 84\u001b[0;31m         \u001b[0mh\u001b[0m \u001b[0;34m=\u001b[0m \u001b[0mself\u001b[0m\u001b[0;34m.\u001b[0m\u001b[0mP_h_x\u001b[0m\u001b[0;34m(\u001b[0m\u001b[0mx\u001b[0m\u001b[0;34m)\u001b[0m\u001b[0;34m\u001b[0m\u001b[0;34m\u001b[0m\u001b[0m\n\u001b[0m\u001b[1;32m     85\u001b[0m         \u001b[0mhWx\u001b[0m \u001b[0;34m=\u001b[0m \u001b[0mF\u001b[0m\u001b[0;34m.\u001b[0m\u001b[0mlinear\u001b[0m\u001b[0;34m(\u001b[0m\u001b[0mWx\u001b[0m\u001b[0;34m,\u001b[0m \u001b[0mh\u001b[0m\u001b[0;34m)\u001b[0m\u001b[0;34m\u001b[0m\u001b[0;34m\u001b[0m\u001b[0m\n\u001b[1;32m     86\u001b[0m         \u001b[0mprint\u001b[0m\u001b[0;34m(\u001b[0m\u001b[0;34m\"hWx\"\u001b[0m\u001b[0;34m,\u001b[0m \u001b[0mhWx\u001b[0m\u001b[0;34m.\u001b[0m\u001b[0mshape\u001b[0m\u001b[0;34m)\u001b[0m\u001b[0;34m\u001b[0m\u001b[0;34m\u001b[0m\u001b[0m\n",
      "\u001b[0;32m<ipython-input-3-7af35b1aa570>\u001b[0m in \u001b[0;36mP_h_x\u001b[0;34m(self, x)\u001b[0m\n\u001b[1;32m     43\u001b[0m         \u001b[0mprint\u001b[0m\u001b[0;34m(\u001b[0m\u001b[0;34m\"P_h_x, x:\"\u001b[0m\u001b[0;34m,\u001b[0m \u001b[0mx\u001b[0m\u001b[0;34m.\u001b[0m\u001b[0mshape\u001b[0m\u001b[0;34m)\u001b[0m\u001b[0;34m\u001b[0m\u001b[0;34m\u001b[0m\u001b[0m\n\u001b[1;32m     44\u001b[0m         \u001b[0mprint\u001b[0m\u001b[0;34m(\u001b[0m\u001b[0;34m\"P_h_x, W:\"\u001b[0m\u001b[0;34m,\u001b[0m \u001b[0mself\u001b[0m\u001b[0;34m.\u001b[0m\u001b[0mW\u001b[0m\u001b[0;34m.\u001b[0m\u001b[0mshape\u001b[0m\u001b[0;34m)\u001b[0m\u001b[0;34m\u001b[0m\u001b[0;34m\u001b[0m\u001b[0m\n\u001b[0;32m---> 45\u001b[0;31m         \u001b[0mph_x\u001b[0m \u001b[0;34m=\u001b[0m \u001b[0mtorch\u001b[0m\u001b[0;34m.\u001b[0m\u001b[0msigmoid\u001b[0m\u001b[0;34m(\u001b[0m\u001b[0mF\u001b[0m\u001b[0;34m.\u001b[0m\u001b[0mlinear\u001b[0m\u001b[0;34m(\u001b[0m\u001b[0mx\u001b[0m\u001b[0;34m,\u001b[0m \u001b[0mself\u001b[0m\u001b[0;34m.\u001b[0m\u001b[0mW\u001b[0m\u001b[0;34m,\u001b[0m \u001b[0mself\u001b[0m\u001b[0;34m.\u001b[0m\u001b[0mb\u001b[0m\u001b[0;34m)\u001b[0m\u001b[0;34m)\u001b[0m \u001b[0;31m# n_batch x F\u001b[0m\u001b[0;34m\u001b[0m\u001b[0;34m\u001b[0m\u001b[0m\n\u001b[0m\u001b[1;32m     46\u001b[0m         \u001b[0mprint\u001b[0m\u001b[0;34m(\u001b[0m\u001b[0;34m\"P_h_x, ph_x (output):\"\u001b[0m\u001b[0;34m,\u001b[0m \u001b[0mph_x\u001b[0m\u001b[0;34m.\u001b[0m\u001b[0mshape\u001b[0m\u001b[0;34m)\u001b[0m\u001b[0;34m\u001b[0m\u001b[0;34m\u001b[0m\u001b[0m\n\u001b[1;32m     47\u001b[0m         \u001b[0;32mreturn\u001b[0m \u001b[0mph_x\u001b[0m\u001b[0;34m\u001b[0m\u001b[0;34m\u001b[0m\u001b[0m\n",
      "\u001b[0;31mRuntimeError\u001b[0m: CUDA error: device-side assert triggered\nCUDA kernel errors might be asynchronously reported at some other API call,so the stacktrace below might be incorrect.\nFor debugging consider passing CUDA_LAUNCH_BLOCKING=1."
     ]
    }
   ],
   "source": [
    "device = torch.device(device)\n",
    "torch.manual_seed(seed)\n",
    "torch.cuda.manual_seed(seed)\n",
    "\n",
    "rbm = RBM(D=28*28, F=400, k=5).to(device)\n",
    "optimizer = make_optimizer(optimizer_name, rbm, lr=lr)\n",
    "scheduler = make_scheduler(scheduler_name, optimizer, milestones=[5], factor=0.1)\n",
    "\n",
    "for epoch in range(1, num_epochs + 1):\n",
    "    \n",
    "    train(rbm, device, train_loader[data_name], optimizer, epoch)\n",
    "    test(rbm, device, test_loader[data_name], epoch)\n",
    "    scheduler.step()\n",
    "    \n",
    "    print('Optimizer Learning rate: {0:.4f}\\n'.format(optimizer.param_groups[0]['lr']))"
   ]
  },
  {
   "cell_type": "markdown",
   "metadata": {
    "id": "m42_Hs_Nq3fE"
   },
   "source": [
    "## Plot"
   ]
  },
  {
   "cell_type": "code",
   "execution_count": null,
   "metadata": {
    "id": "7OxI26Bzq3fE"
   },
   "outputs": [],
   "source": [
    "def show(img1, img2):\n",
    "    npimg1 = img1.cpu().numpy()\n",
    "    npimg2 = img2.cpu().numpy()\n",
    "    \n",
    "    fig, axes = plt.subplots(1,2, figsize=(20,10))\n",
    "    axes[0].imshow(np.transpose(npimg1, (1,2,0)), interpolation='nearest')\n",
    "    axes[1].imshow(np.transpose(npimg2, (1,2,0)), interpolation='nearest')\n",
    "    fig.show()"
   ]
  },
  {
   "cell_type": "markdown",
   "metadata": {
    "id": "xOcBYtN1q3fF"
   },
   "source": [
    "## Plot original images and reconstructed images using the test dataset"
   ]
  },
  {
   "cell_type": "code",
   "execution_count": null,
   "metadata": {
    "id": "MEd9ul2Lq3fF"
   },
   "outputs": [],
   "source": [
    "data,_ = next(iter(test_loader[data_name]))\n",
    "data = data[:32]\n",
    "data_size = data.size()\n",
    "data = data.view(data.size(0),-1)\n",
    "bdata = data.bernoulli().to(device)\n",
    "vh_k, pvh_k = rbm(bdata)\n",
    "vh_k, pvh_k = vh_k.detach(), pvh_k.detach()"
   ]
  },
  {
   "cell_type": "code",
   "execution_count": null,
   "metadata": {
    "id": "ukAbkIajq3fG"
   },
   "outputs": [],
   "source": [
    "show(make_grid(data.reshape(data_size), padding=0), make_grid(pvh_k.reshape(data_size), padding=0))"
   ]
  }
 ],
 "metadata": {
  "accelerator": "GPU",
  "colab": {
   "provenance": []
  },
  "gpuClass": "standard",
  "kernelspec": {
   "display_name": "Python 3 (ipykernel)",
   "language": "python",
   "name": "python3"
  },
  "language_info": {
   "codemirror_mode": {
    "name": "ipython",
    "version": 3
   },
   "file_extension": ".py",
   "mimetype": "text/x-python",
   "name": "python",
   "nbconvert_exporter": "python",
   "pygments_lexer": "ipython3",
   "version": "3.9.7"
  },
  "widgets": {
   "application/vnd.jupyter.widget-state+json": {
    "00e99cda9e184300b16d8d273c90f398": {
     "model_module": "@jupyter-widgets/controls",
     "model_module_version": "1.5.0",
     "model_name": "HBoxModel",
     "state": {
      "_dom_classes": [],
      "_model_module": "@jupyter-widgets/controls",
      "_model_module_version": "1.5.0",
      "_model_name": "HBoxModel",
      "_view_count": null,
      "_view_module": "@jupyter-widgets/controls",
      "_view_module_version": "1.5.0",
      "_view_name": "HBoxView",
      "box_style": "",
      "children": [
       "IPY_MODEL_0f15e6835f704a00a970e8c1266a91d2",
       "IPY_MODEL_643483441a92466aa9768dd4d6c8b926",
       "IPY_MODEL_a06f4968cfed498fb53084658aa5f2ab"
      ],
      "layout": "IPY_MODEL_c1ff892002464298bea68166340fc193"
     }
    },
    "0f15e6835f704a00a970e8c1266a91d2": {
     "model_module": "@jupyter-widgets/controls",
     "model_module_version": "1.5.0",
     "model_name": "HTMLModel",
     "state": {
      "_dom_classes": [],
      "_model_module": "@jupyter-widgets/controls",
      "_model_module_version": "1.5.0",
      "_model_name": "HTMLModel",
      "_view_count": null,
      "_view_module": "@jupyter-widgets/controls",
      "_view_module_version": "1.5.0",
      "_view_name": "HTMLView",
      "description": "",
      "description_tooltip": null,
      "layout": "IPY_MODEL_51f8d949aa824e41ba8f35180e35697b",
      "placeholder": "​",
      "style": "IPY_MODEL_dce669c6ffad4396a571f343b8e9effa",
      "value": "100%"
     }
    },
    "1b8900c22b2e4942a74b0e922403dc6c": {
     "model_module": "@jupyter-widgets/base",
     "model_module_version": "1.2.0",
     "model_name": "LayoutModel",
     "state": {
      "_model_module": "@jupyter-widgets/base",
      "_model_module_version": "1.2.0",
      "_model_name": "LayoutModel",
      "_view_count": null,
      "_view_module": "@jupyter-widgets/base",
      "_view_module_version": "1.2.0",
      "_view_name": "LayoutView",
      "align_content": null,
      "align_items": null,
      "align_self": null,
      "border": null,
      "bottom": null,
      "display": null,
      "flex": null,
      "flex_flow": null,
      "grid_area": null,
      "grid_auto_columns": null,
      "grid_auto_flow": null,
      "grid_auto_rows": null,
      "grid_column": null,
      "grid_gap": null,
      "grid_row": null,
      "grid_template_areas": null,
      "grid_template_columns": null,
      "grid_template_rows": null,
      "height": null,
      "justify_content": null,
      "justify_items": null,
      "left": null,
      "margin": null,
      "max_height": null,
      "max_width": null,
      "min_height": null,
      "min_width": null,
      "object_fit": null,
      "object_position": null,
      "order": null,
      "overflow": null,
      "overflow_x": null,
      "overflow_y": null,
      "padding": null,
      "right": null,
      "top": null,
      "visibility": null,
      "width": null
     }
    },
    "3145b846ee8745e6973029eea375645b": {
     "model_module": "@jupyter-widgets/controls",
     "model_module_version": "1.5.0",
     "model_name": "FloatProgressModel",
     "state": {
      "_dom_classes": [],
      "_model_module": "@jupyter-widgets/controls",
      "_model_module_version": "1.5.0",
      "_model_name": "FloatProgressModel",
      "_view_count": null,
      "_view_module": "@jupyter-widgets/controls",
      "_view_module_version": "1.5.0",
      "_view_name": "ProgressView",
      "bar_style": "success",
      "description": "",
      "description_tooltip": null,
      "layout": "IPY_MODEL_b8f480f7a4a747d98fd304996c542033",
      "max": 4542,
      "min": 0,
      "orientation": "horizontal",
      "style": "IPY_MODEL_b9179ceb2f964ed89d23ca487cedecf7",
      "value": 4542
     }
    },
    "3f2b977fe4aa4547a3d49a353fb8b21e": {
     "model_module": "@jupyter-widgets/base",
     "model_module_version": "1.2.0",
     "model_name": "LayoutModel",
     "state": {
      "_model_module": "@jupyter-widgets/base",
      "_model_module_version": "1.2.0",
      "_model_name": "LayoutModel",
      "_view_count": null,
      "_view_module": "@jupyter-widgets/base",
      "_view_module_version": "1.2.0",
      "_view_name": "LayoutView",
      "align_content": null,
      "align_items": null,
      "align_self": null,
      "border": null,
      "bottom": null,
      "display": null,
      "flex": null,
      "flex_flow": null,
      "grid_area": null,
      "grid_auto_columns": null,
      "grid_auto_flow": null,
      "grid_auto_rows": null,
      "grid_column": null,
      "grid_gap": null,
      "grid_row": null,
      "grid_template_areas": null,
      "grid_template_columns": null,
      "grid_template_rows": null,
      "height": null,
      "justify_content": null,
      "justify_items": null,
      "left": null,
      "margin": null,
      "max_height": null,
      "max_width": null,
      "min_height": null,
      "min_width": null,
      "object_fit": null,
      "object_position": null,
      "order": null,
      "overflow": null,
      "overflow_x": null,
      "overflow_y": null,
      "padding": null,
      "right": null,
      "top": null,
      "visibility": null,
      "width": null
     }
    },
    "4086bf917ca54ddf9420a242c1d75683": {
     "model_module": "@jupyter-widgets/controls",
     "model_module_version": "1.5.0",
     "model_name": "DescriptionStyleModel",
     "state": {
      "_model_module": "@jupyter-widgets/controls",
      "_model_module_version": "1.5.0",
      "_model_name": "DescriptionStyleModel",
      "_view_count": null,
      "_view_module": "@jupyter-widgets/base",
      "_view_module_version": "1.2.0",
      "_view_name": "StyleView",
      "description_width": ""
     }
    },
    "441cbf58603e465bace0666a09a0d2e9": {
     "model_module": "@jupyter-widgets/controls",
     "model_module_version": "1.5.0",
     "model_name": "FloatProgressModel",
     "state": {
      "_dom_classes": [],
      "_model_module": "@jupyter-widgets/controls",
      "_model_module_version": "1.5.0",
      "_model_name": "FloatProgressModel",
      "_view_count": null,
      "_view_module": "@jupyter-widgets/controls",
      "_view_module_version": "1.5.0",
      "_view_name": "ProgressView",
      "bar_style": "success",
      "description": "",
      "description_tooltip": null,
      "layout": "IPY_MODEL_aa90463aa203491ca749bac716bf2374",
      "max": 9912422,
      "min": 0,
      "orientation": "horizontal",
      "style": "IPY_MODEL_89cc9358c7694c7c94db4b920c95d3b3",
      "value": 9912422
     }
    },
    "48f81e3105664b14851d86b9f8bec0eb": {
     "model_module": "@jupyter-widgets/controls",
     "model_module_version": "1.5.0",
     "model_name": "DescriptionStyleModel",
     "state": {
      "_model_module": "@jupyter-widgets/controls",
      "_model_module_version": "1.5.0",
      "_model_name": "DescriptionStyleModel",
      "_view_count": null,
      "_view_module": "@jupyter-widgets/base",
      "_view_module_version": "1.2.0",
      "_view_name": "StyleView",
      "description_width": ""
     }
    },
    "4e4f623e71044474857213dfc20b2936": {
     "model_module": "@jupyter-widgets/base",
     "model_module_version": "1.2.0",
     "model_name": "LayoutModel",
     "state": {
      "_model_module": "@jupyter-widgets/base",
      "_model_module_version": "1.2.0",
      "_model_name": "LayoutModel",
      "_view_count": null,
      "_view_module": "@jupyter-widgets/base",
      "_view_module_version": "1.2.0",
      "_view_name": "LayoutView",
      "align_content": null,
      "align_items": null,
      "align_self": null,
      "border": null,
      "bottom": null,
      "display": null,
      "flex": null,
      "flex_flow": null,
      "grid_area": null,
      "grid_auto_columns": null,
      "grid_auto_flow": null,
      "grid_auto_rows": null,
      "grid_column": null,
      "grid_gap": null,
      "grid_row": null,
      "grid_template_areas": null,
      "grid_template_columns": null,
      "grid_template_rows": null,
      "height": null,
      "justify_content": null,
      "justify_items": null,
      "left": null,
      "margin": null,
      "max_height": null,
      "max_width": null,
      "min_height": null,
      "min_width": null,
      "object_fit": null,
      "object_position": null,
      "order": null,
      "overflow": null,
      "overflow_x": null,
      "overflow_y": null,
      "padding": null,
      "right": null,
      "top": null,
      "visibility": null,
      "width": null
     }
    },
    "4ff6084f10414405a60ed7b00507eed6": {
     "model_module": "@jupyter-widgets/controls",
     "model_module_version": "1.5.0",
     "model_name": "DescriptionStyleModel",
     "state": {
      "_model_module": "@jupyter-widgets/controls",
      "_model_module_version": "1.5.0",
      "_model_name": "DescriptionStyleModel",
      "_view_count": null,
      "_view_module": "@jupyter-widgets/base",
      "_view_module_version": "1.2.0",
      "_view_name": "StyleView",
      "description_width": ""
     }
    },
    "51f8d949aa824e41ba8f35180e35697b": {
     "model_module": "@jupyter-widgets/base",
     "model_module_version": "1.2.0",
     "model_name": "LayoutModel",
     "state": {
      "_model_module": "@jupyter-widgets/base",
      "_model_module_version": "1.2.0",
      "_model_name": "LayoutModel",
      "_view_count": null,
      "_view_module": "@jupyter-widgets/base",
      "_view_module_version": "1.2.0",
      "_view_name": "LayoutView",
      "align_content": null,
      "align_items": null,
      "align_self": null,
      "border": null,
      "bottom": null,
      "display": null,
      "flex": null,
      "flex_flow": null,
      "grid_area": null,
      "grid_auto_columns": null,
      "grid_auto_flow": null,
      "grid_auto_rows": null,
      "grid_column": null,
      "grid_gap": null,
      "grid_row": null,
      "grid_template_areas": null,
      "grid_template_columns": null,
      "grid_template_rows": null,
      "height": null,
      "justify_content": null,
      "justify_items": null,
      "left": null,
      "margin": null,
      "max_height": null,
      "max_width": null,
      "min_height": null,
      "min_width": null,
      "object_fit": null,
      "object_position": null,
      "order": null,
      "overflow": null,
      "overflow_x": null,
      "overflow_y": null,
      "padding": null,
      "right": null,
      "top": null,
      "visibility": null,
      "width": null
     }
    },
    "58e1e57c5f49466baf521665dc584730": {
     "model_module": "@jupyter-widgets/controls",
     "model_module_version": "1.5.0",
     "model_name": "HTMLModel",
     "state": {
      "_dom_classes": [],
      "_model_module": "@jupyter-widgets/controls",
      "_model_module_version": "1.5.0",
      "_model_name": "HTMLModel",
      "_view_count": null,
      "_view_module": "@jupyter-widgets/controls",
      "_view_module_version": "1.5.0",
      "_view_name": "HTMLView",
      "description": "",
      "description_tooltip": null,
      "layout": "IPY_MODEL_b34642f353a5454f9933e4e4b959a611",
      "placeholder": "​",
      "style": "IPY_MODEL_4ff6084f10414405a60ed7b00507eed6",
      "value": " 9912422/9912422 [00:00&lt;00:00, 147452515.41it/s]"
     }
    },
    "599ce7edae9940f395ed3e4b2d84c1f3": {
     "model_module": "@jupyter-widgets/controls",
     "model_module_version": "1.5.0",
     "model_name": "HTMLModel",
     "state": {
      "_dom_classes": [],
      "_model_module": "@jupyter-widgets/controls",
      "_model_module_version": "1.5.0",
      "_model_name": "HTMLModel",
      "_view_count": null,
      "_view_module": "@jupyter-widgets/controls",
      "_view_module_version": "1.5.0",
      "_view_name": "HTMLView",
      "description": "",
      "description_tooltip": null,
      "layout": "IPY_MODEL_fe00f6919d5743cd9d04b83cd8c2df9c",
      "placeholder": "​",
      "style": "IPY_MODEL_782e31a88c2b49d4be6c17ccc3582620",
      "value": " 4542/4542 [00:00&lt;00:00, 148856.68it/s]"
     }
    },
    "643483441a92466aa9768dd4d6c8b926": {
     "model_module": "@jupyter-widgets/controls",
     "model_module_version": "1.5.0",
     "model_name": "FloatProgressModel",
     "state": {
      "_dom_classes": [],
      "_model_module": "@jupyter-widgets/controls",
      "_model_module_version": "1.5.0",
      "_model_name": "FloatProgressModel",
      "_view_count": null,
      "_view_module": "@jupyter-widgets/controls",
      "_view_module_version": "1.5.0",
      "_view_name": "ProgressView",
      "bar_style": "success",
      "description": "",
      "description_tooltip": null,
      "layout": "IPY_MODEL_3f2b977fe4aa4547a3d49a353fb8b21e",
      "max": 1648877,
      "min": 0,
      "orientation": "horizontal",
      "style": "IPY_MODEL_f501c5ee2a8a45cf8116222149f0e574",
      "value": 1648877
     }
    },
    "6d80a682f6f546aabdf7cd44ea2e5332": {
     "model_module": "@jupyter-widgets/base",
     "model_module_version": "1.2.0",
     "model_name": "LayoutModel",
     "state": {
      "_model_module": "@jupyter-widgets/base",
      "_model_module_version": "1.2.0",
      "_model_name": "LayoutModel",
      "_view_count": null,
      "_view_module": "@jupyter-widgets/base",
      "_view_module_version": "1.2.0",
      "_view_name": "LayoutView",
      "align_content": null,
      "align_items": null,
      "align_self": null,
      "border": null,
      "bottom": null,
      "display": null,
      "flex": null,
      "flex_flow": null,
      "grid_area": null,
      "grid_auto_columns": null,
      "grid_auto_flow": null,
      "grid_auto_rows": null,
      "grid_column": null,
      "grid_gap": null,
      "grid_row": null,
      "grid_template_areas": null,
      "grid_template_columns": null,
      "grid_template_rows": null,
      "height": null,
      "justify_content": null,
      "justify_items": null,
      "left": null,
      "margin": null,
      "max_height": null,
      "max_width": null,
      "min_height": null,
      "min_width": null,
      "object_fit": null,
      "object_position": null,
      "order": null,
      "overflow": null,
      "overflow_x": null,
      "overflow_y": null,
      "padding": null,
      "right": null,
      "top": null,
      "visibility": null,
      "width": null
     }
    },
    "6f888848e1964d69892c6cf32993aaa4": {
     "model_module": "@jupyter-widgets/controls",
     "model_module_version": "1.5.0",
     "model_name": "DescriptionStyleModel",
     "state": {
      "_model_module": "@jupyter-widgets/controls",
      "_model_module_version": "1.5.0",
      "_model_name": "DescriptionStyleModel",
      "_view_count": null,
      "_view_module": "@jupyter-widgets/base",
      "_view_module_version": "1.2.0",
      "_view_name": "StyleView",
      "description_width": ""
     }
    },
    "74ac6787e7384f119564132272b3d190": {
     "model_module": "@jupyter-widgets/controls",
     "model_module_version": "1.5.0",
     "model_name": "HBoxModel",
     "state": {
      "_dom_classes": [],
      "_model_module": "@jupyter-widgets/controls",
      "_model_module_version": "1.5.0",
      "_model_name": "HBoxModel",
      "_view_count": null,
      "_view_module": "@jupyter-widgets/controls",
      "_view_module_version": "1.5.0",
      "_view_name": "HBoxView",
      "box_style": "",
      "children": [
       "IPY_MODEL_94ab5c059a5e48429c2f8335782df076",
       "IPY_MODEL_441cbf58603e465bace0666a09a0d2e9",
       "IPY_MODEL_58e1e57c5f49466baf521665dc584730"
      ],
      "layout": "IPY_MODEL_fe57998bab944483ba01977714016713"
     }
    },
    "782e31a88c2b49d4be6c17ccc3582620": {
     "model_module": "@jupyter-widgets/controls",
     "model_module_version": "1.5.0",
     "model_name": "DescriptionStyleModel",
     "state": {
      "_model_module": "@jupyter-widgets/controls",
      "_model_module_version": "1.5.0",
      "_model_name": "DescriptionStyleModel",
      "_view_count": null,
      "_view_module": "@jupyter-widgets/base",
      "_view_module_version": "1.2.0",
      "_view_name": "StyleView",
      "description_width": ""
     }
    },
    "82c3b5bcdcdb4060b6edbf9d64b2e17d": {
     "model_module": "@jupyter-widgets/controls",
     "model_module_version": "1.5.0",
     "model_name": "HTMLModel",
     "state": {
      "_dom_classes": [],
      "_model_module": "@jupyter-widgets/controls",
      "_model_module_version": "1.5.0",
      "_model_name": "HTMLModel",
      "_view_count": null,
      "_view_module": "@jupyter-widgets/controls",
      "_view_module_version": "1.5.0",
      "_view_name": "HTMLView",
      "description": "",
      "description_tooltip": null,
      "layout": "IPY_MODEL_e0e24996769d4c40adb02e83bd629ea6",
      "placeholder": "​",
      "style": "IPY_MODEL_9b22a58245a54cf598de4a1c3bdccb0d",
      "value": "100%"
     }
    },
    "855783b5fb2d4dcca62eb99968cdfbdf": {
     "model_module": "@jupyter-widgets/base",
     "model_module_version": "1.2.0",
     "model_name": "LayoutModel",
     "state": {
      "_model_module": "@jupyter-widgets/base",
      "_model_module_version": "1.2.0",
      "_model_name": "LayoutModel",
      "_view_count": null,
      "_view_module": "@jupyter-widgets/base",
      "_view_module_version": "1.2.0",
      "_view_name": "LayoutView",
      "align_content": null,
      "align_items": null,
      "align_self": null,
      "border": null,
      "bottom": null,
      "display": null,
      "flex": null,
      "flex_flow": null,
      "grid_area": null,
      "grid_auto_columns": null,
      "grid_auto_flow": null,
      "grid_auto_rows": null,
      "grid_column": null,
      "grid_gap": null,
      "grid_row": null,
      "grid_template_areas": null,
      "grid_template_columns": null,
      "grid_template_rows": null,
      "height": null,
      "justify_content": null,
      "justify_items": null,
      "left": null,
      "margin": null,
      "max_height": null,
      "max_width": null,
      "min_height": null,
      "min_width": null,
      "object_fit": null,
      "object_position": null,
      "order": null,
      "overflow": null,
      "overflow_x": null,
      "overflow_y": null,
      "padding": null,
      "right": null,
      "top": null,
      "visibility": null,
      "width": null
     }
    },
    "89cc9358c7694c7c94db4b920c95d3b3": {
     "model_module": "@jupyter-widgets/controls",
     "model_module_version": "1.5.0",
     "model_name": "ProgressStyleModel",
     "state": {
      "_model_module": "@jupyter-widgets/controls",
      "_model_module_version": "1.5.0",
      "_model_name": "ProgressStyleModel",
      "_view_count": null,
      "_view_module": "@jupyter-widgets/base",
      "_view_module_version": "1.2.0",
      "_view_name": "StyleView",
      "bar_color": null,
      "description_width": ""
     }
    },
    "8ef4d9b3e7194c4ab536727f17e18c4d": {
     "model_module": "@jupyter-widgets/controls",
     "model_module_version": "1.5.0",
     "model_name": "HBoxModel",
     "state": {
      "_dom_classes": [],
      "_model_module": "@jupyter-widgets/controls",
      "_model_module_version": "1.5.0",
      "_model_name": "HBoxModel",
      "_view_count": null,
      "_view_module": "@jupyter-widgets/controls",
      "_view_module_version": "1.5.0",
      "_view_name": "HBoxView",
      "box_style": "",
      "children": [
       "IPY_MODEL_c18d8142b3904b2a9f74f706ca5b34d0",
       "IPY_MODEL_eeb864e02499431fabbab564195ad08d",
       "IPY_MODEL_afa2955b38834ae6a24d47d7d9e92c77"
      ],
      "layout": "IPY_MODEL_1b8900c22b2e4942a74b0e922403dc6c"
     }
    },
    "94ab5c059a5e48429c2f8335782df076": {
     "model_module": "@jupyter-widgets/controls",
     "model_module_version": "1.5.0",
     "model_name": "HTMLModel",
     "state": {
      "_dom_classes": [],
      "_model_module": "@jupyter-widgets/controls",
      "_model_module_version": "1.5.0",
      "_model_name": "HTMLModel",
      "_view_count": null,
      "_view_module": "@jupyter-widgets/controls",
      "_view_module_version": "1.5.0",
      "_view_name": "HTMLView",
      "description": "",
      "description_tooltip": null,
      "layout": "IPY_MODEL_855783b5fb2d4dcca62eb99968cdfbdf",
      "placeholder": "​",
      "style": "IPY_MODEL_b82f5624fcf94310a24b576df6d8230b",
      "value": "100%"
     }
    },
    "9b22a58245a54cf598de4a1c3bdccb0d": {
     "model_module": "@jupyter-widgets/controls",
     "model_module_version": "1.5.0",
     "model_name": "DescriptionStyleModel",
     "state": {
      "_model_module": "@jupyter-widgets/controls",
      "_model_module_version": "1.5.0",
      "_model_name": "DescriptionStyleModel",
      "_view_count": null,
      "_view_module": "@jupyter-widgets/base",
      "_view_module_version": "1.2.0",
      "_view_name": "StyleView",
      "description_width": ""
     }
    },
    "9c1f969b638449e59644263b998abcf5": {
     "model_module": "@jupyter-widgets/base",
     "model_module_version": "1.2.0",
     "model_name": "LayoutModel",
     "state": {
      "_model_module": "@jupyter-widgets/base",
      "_model_module_version": "1.2.0",
      "_model_name": "LayoutModel",
      "_view_count": null,
      "_view_module": "@jupyter-widgets/base",
      "_view_module_version": "1.2.0",
      "_view_name": "LayoutView",
      "align_content": null,
      "align_items": null,
      "align_self": null,
      "border": null,
      "bottom": null,
      "display": null,
      "flex": null,
      "flex_flow": null,
      "grid_area": null,
      "grid_auto_columns": null,
      "grid_auto_flow": null,
      "grid_auto_rows": null,
      "grid_column": null,
      "grid_gap": null,
      "grid_row": null,
      "grid_template_areas": null,
      "grid_template_columns": null,
      "grid_template_rows": null,
      "height": null,
      "justify_content": null,
      "justify_items": null,
      "left": null,
      "margin": null,
      "max_height": null,
      "max_width": null,
      "min_height": null,
      "min_width": null,
      "object_fit": null,
      "object_position": null,
      "order": null,
      "overflow": null,
      "overflow_x": null,
      "overflow_y": null,
      "padding": null,
      "right": null,
      "top": null,
      "visibility": null,
      "width": null
     }
    },
    "a06f4968cfed498fb53084658aa5f2ab": {
     "model_module": "@jupyter-widgets/controls",
     "model_module_version": "1.5.0",
     "model_name": "HTMLModel",
     "state": {
      "_dom_classes": [],
      "_model_module": "@jupyter-widgets/controls",
      "_model_module_version": "1.5.0",
      "_model_name": "HTMLModel",
      "_view_count": null,
      "_view_module": "@jupyter-widgets/controls",
      "_view_module_version": "1.5.0",
      "_view_name": "HTMLView",
      "description": "",
      "description_tooltip": null,
      "layout": "IPY_MODEL_6d80a682f6f546aabdf7cd44ea2e5332",
      "placeholder": "​",
      "style": "IPY_MODEL_48f81e3105664b14851d86b9f8bec0eb",
      "value": " 1648877/1648877 [00:00&lt;00:00, 38232580.00it/s]"
     }
    },
    "aa90463aa203491ca749bac716bf2374": {
     "model_module": "@jupyter-widgets/base",
     "model_module_version": "1.2.0",
     "model_name": "LayoutModel",
     "state": {
      "_model_module": "@jupyter-widgets/base",
      "_model_module_version": "1.2.0",
      "_model_name": "LayoutModel",
      "_view_count": null,
      "_view_module": "@jupyter-widgets/base",
      "_view_module_version": "1.2.0",
      "_view_name": "LayoutView",
      "align_content": null,
      "align_items": null,
      "align_self": null,
      "border": null,
      "bottom": null,
      "display": null,
      "flex": null,
      "flex_flow": null,
      "grid_area": null,
      "grid_auto_columns": null,
      "grid_auto_flow": null,
      "grid_auto_rows": null,
      "grid_column": null,
      "grid_gap": null,
      "grid_row": null,
      "grid_template_areas": null,
      "grid_template_columns": null,
      "grid_template_rows": null,
      "height": null,
      "justify_content": null,
      "justify_items": null,
      "left": null,
      "margin": null,
      "max_height": null,
      "max_width": null,
      "min_height": null,
      "min_width": null,
      "object_fit": null,
      "object_position": null,
      "order": null,
      "overflow": null,
      "overflow_x": null,
      "overflow_y": null,
      "padding": null,
      "right": null,
      "top": null,
      "visibility": null,
      "width": null
     }
    },
    "afa2955b38834ae6a24d47d7d9e92c77": {
     "model_module": "@jupyter-widgets/controls",
     "model_module_version": "1.5.0",
     "model_name": "HTMLModel",
     "state": {
      "_dom_classes": [],
      "_model_module": "@jupyter-widgets/controls",
      "_model_module_version": "1.5.0",
      "_model_name": "HTMLModel",
      "_view_count": null,
      "_view_module": "@jupyter-widgets/controls",
      "_view_module_version": "1.5.0",
      "_view_name": "HTMLView",
      "description": "",
      "description_tooltip": null,
      "layout": "IPY_MODEL_f5d47673e29e48049ca35328e34a1287",
      "placeholder": "​",
      "style": "IPY_MODEL_4086bf917ca54ddf9420a242c1d75683",
      "value": " 28881/28881 [00:00&lt;00:00, 671111.88it/s]"
     }
    },
    "b34642f353a5454f9933e4e4b959a611": {
     "model_module": "@jupyter-widgets/base",
     "model_module_version": "1.2.0",
     "model_name": "LayoutModel",
     "state": {
      "_model_module": "@jupyter-widgets/base",
      "_model_module_version": "1.2.0",
      "_model_name": "LayoutModel",
      "_view_count": null,
      "_view_module": "@jupyter-widgets/base",
      "_view_module_version": "1.2.0",
      "_view_name": "LayoutView",
      "align_content": null,
      "align_items": null,
      "align_self": null,
      "border": null,
      "bottom": null,
      "display": null,
      "flex": null,
      "flex_flow": null,
      "grid_area": null,
      "grid_auto_columns": null,
      "grid_auto_flow": null,
      "grid_auto_rows": null,
      "grid_column": null,
      "grid_gap": null,
      "grid_row": null,
      "grid_template_areas": null,
      "grid_template_columns": null,
      "grid_template_rows": null,
      "height": null,
      "justify_content": null,
      "justify_items": null,
      "left": null,
      "margin": null,
      "max_height": null,
      "max_width": null,
      "min_height": null,
      "min_width": null,
      "object_fit": null,
      "object_position": null,
      "order": null,
      "overflow": null,
      "overflow_x": null,
      "overflow_y": null,
      "padding": null,
      "right": null,
      "top": null,
      "visibility": null,
      "width": null
     }
    },
    "b82f5624fcf94310a24b576df6d8230b": {
     "model_module": "@jupyter-widgets/controls",
     "model_module_version": "1.5.0",
     "model_name": "DescriptionStyleModel",
     "state": {
      "_model_module": "@jupyter-widgets/controls",
      "_model_module_version": "1.5.0",
      "_model_name": "DescriptionStyleModel",
      "_view_count": null,
      "_view_module": "@jupyter-widgets/base",
      "_view_module_version": "1.2.0",
      "_view_name": "StyleView",
      "description_width": ""
     }
    },
    "b8f480f7a4a747d98fd304996c542033": {
     "model_module": "@jupyter-widgets/base",
     "model_module_version": "1.2.0",
     "model_name": "LayoutModel",
     "state": {
      "_model_module": "@jupyter-widgets/base",
      "_model_module_version": "1.2.0",
      "_model_name": "LayoutModel",
      "_view_count": null,
      "_view_module": "@jupyter-widgets/base",
      "_view_module_version": "1.2.0",
      "_view_name": "LayoutView",
      "align_content": null,
      "align_items": null,
      "align_self": null,
      "border": null,
      "bottom": null,
      "display": null,
      "flex": null,
      "flex_flow": null,
      "grid_area": null,
      "grid_auto_columns": null,
      "grid_auto_flow": null,
      "grid_auto_rows": null,
      "grid_column": null,
      "grid_gap": null,
      "grid_row": null,
      "grid_template_areas": null,
      "grid_template_columns": null,
      "grid_template_rows": null,
      "height": null,
      "justify_content": null,
      "justify_items": null,
      "left": null,
      "margin": null,
      "max_height": null,
      "max_width": null,
      "min_height": null,
      "min_width": null,
      "object_fit": null,
      "object_position": null,
      "order": null,
      "overflow": null,
      "overflow_x": null,
      "overflow_y": null,
      "padding": null,
      "right": null,
      "top": null,
      "visibility": null,
      "width": null
     }
    },
    "b9179ceb2f964ed89d23ca487cedecf7": {
     "model_module": "@jupyter-widgets/controls",
     "model_module_version": "1.5.0",
     "model_name": "ProgressStyleModel",
     "state": {
      "_model_module": "@jupyter-widgets/controls",
      "_model_module_version": "1.5.0",
      "_model_name": "ProgressStyleModel",
      "_view_count": null,
      "_view_module": "@jupyter-widgets/base",
      "_view_module_version": "1.2.0",
      "_view_name": "StyleView",
      "bar_color": null,
      "description_width": ""
     }
    },
    "bf4b5126fd60422abf366d998c2b6f1e": {
     "model_module": "@jupyter-widgets/controls",
     "model_module_version": "1.5.0",
     "model_name": "HBoxModel",
     "state": {
      "_dom_classes": [],
      "_model_module": "@jupyter-widgets/controls",
      "_model_module_version": "1.5.0",
      "_model_name": "HBoxModel",
      "_view_count": null,
      "_view_module": "@jupyter-widgets/controls",
      "_view_module_version": "1.5.0",
      "_view_name": "HBoxView",
      "box_style": "",
      "children": [
       "IPY_MODEL_82c3b5bcdcdb4060b6edbf9d64b2e17d",
       "IPY_MODEL_3145b846ee8745e6973029eea375645b",
       "IPY_MODEL_599ce7edae9940f395ed3e4b2d84c1f3"
      ],
      "layout": "IPY_MODEL_c9dde890d3d3443181abda0855cdaf6c"
     }
    },
    "c18d8142b3904b2a9f74f706ca5b34d0": {
     "model_module": "@jupyter-widgets/controls",
     "model_module_version": "1.5.0",
     "model_name": "HTMLModel",
     "state": {
      "_dom_classes": [],
      "_model_module": "@jupyter-widgets/controls",
      "_model_module_version": "1.5.0",
      "_model_name": "HTMLModel",
      "_view_count": null,
      "_view_module": "@jupyter-widgets/controls",
      "_view_module_version": "1.5.0",
      "_view_name": "HTMLView",
      "description": "",
      "description_tooltip": null,
      "layout": "IPY_MODEL_9c1f969b638449e59644263b998abcf5",
      "placeholder": "​",
      "style": "IPY_MODEL_6f888848e1964d69892c6cf32993aaa4",
      "value": "100%"
     }
    },
    "c1ff892002464298bea68166340fc193": {
     "model_module": "@jupyter-widgets/base",
     "model_module_version": "1.2.0",
     "model_name": "LayoutModel",
     "state": {
      "_model_module": "@jupyter-widgets/base",
      "_model_module_version": "1.2.0",
      "_model_name": "LayoutModel",
      "_view_count": null,
      "_view_module": "@jupyter-widgets/base",
      "_view_module_version": "1.2.0",
      "_view_name": "LayoutView",
      "align_content": null,
      "align_items": null,
      "align_self": null,
      "border": null,
      "bottom": null,
      "display": null,
      "flex": null,
      "flex_flow": null,
      "grid_area": null,
      "grid_auto_columns": null,
      "grid_auto_flow": null,
      "grid_auto_rows": null,
      "grid_column": null,
      "grid_gap": null,
      "grid_row": null,
      "grid_template_areas": null,
      "grid_template_columns": null,
      "grid_template_rows": null,
      "height": null,
      "justify_content": null,
      "justify_items": null,
      "left": null,
      "margin": null,
      "max_height": null,
      "max_width": null,
      "min_height": null,
      "min_width": null,
      "object_fit": null,
      "object_position": null,
      "order": null,
      "overflow": null,
      "overflow_x": null,
      "overflow_y": null,
      "padding": null,
      "right": null,
      "top": null,
      "visibility": null,
      "width": null
     }
    },
    "c9dde890d3d3443181abda0855cdaf6c": {
     "model_module": "@jupyter-widgets/base",
     "model_module_version": "1.2.0",
     "model_name": "LayoutModel",
     "state": {
      "_model_module": "@jupyter-widgets/base",
      "_model_module_version": "1.2.0",
      "_model_name": "LayoutModel",
      "_view_count": null,
      "_view_module": "@jupyter-widgets/base",
      "_view_module_version": "1.2.0",
      "_view_name": "LayoutView",
      "align_content": null,
      "align_items": null,
      "align_self": null,
      "border": null,
      "bottom": null,
      "display": null,
      "flex": null,
      "flex_flow": null,
      "grid_area": null,
      "grid_auto_columns": null,
      "grid_auto_flow": null,
      "grid_auto_rows": null,
      "grid_column": null,
      "grid_gap": null,
      "grid_row": null,
      "grid_template_areas": null,
      "grid_template_columns": null,
      "grid_template_rows": null,
      "height": null,
      "justify_content": null,
      "justify_items": null,
      "left": null,
      "margin": null,
      "max_height": null,
      "max_width": null,
      "min_height": null,
      "min_width": null,
      "object_fit": null,
      "object_position": null,
      "order": null,
      "overflow": null,
      "overflow_x": null,
      "overflow_y": null,
      "padding": null,
      "right": null,
      "top": null,
      "visibility": null,
      "width": null
     }
    },
    "dce669c6ffad4396a571f343b8e9effa": {
     "model_module": "@jupyter-widgets/controls",
     "model_module_version": "1.5.0",
     "model_name": "DescriptionStyleModel",
     "state": {
      "_model_module": "@jupyter-widgets/controls",
      "_model_module_version": "1.5.0",
      "_model_name": "DescriptionStyleModel",
      "_view_count": null,
      "_view_module": "@jupyter-widgets/base",
      "_view_module_version": "1.2.0",
      "_view_name": "StyleView",
      "description_width": ""
     }
    },
    "e0e24996769d4c40adb02e83bd629ea6": {
     "model_module": "@jupyter-widgets/base",
     "model_module_version": "1.2.0",
     "model_name": "LayoutModel",
     "state": {
      "_model_module": "@jupyter-widgets/base",
      "_model_module_version": "1.2.0",
      "_model_name": "LayoutModel",
      "_view_count": null,
      "_view_module": "@jupyter-widgets/base",
      "_view_module_version": "1.2.0",
      "_view_name": "LayoutView",
      "align_content": null,
      "align_items": null,
      "align_self": null,
      "border": null,
      "bottom": null,
      "display": null,
      "flex": null,
      "flex_flow": null,
      "grid_area": null,
      "grid_auto_columns": null,
      "grid_auto_flow": null,
      "grid_auto_rows": null,
      "grid_column": null,
      "grid_gap": null,
      "grid_row": null,
      "grid_template_areas": null,
      "grid_template_columns": null,
      "grid_template_rows": null,
      "height": null,
      "justify_content": null,
      "justify_items": null,
      "left": null,
      "margin": null,
      "max_height": null,
      "max_width": null,
      "min_height": null,
      "min_width": null,
      "object_fit": null,
      "object_position": null,
      "order": null,
      "overflow": null,
      "overflow_x": null,
      "overflow_y": null,
      "padding": null,
      "right": null,
      "top": null,
      "visibility": null,
      "width": null
     }
    },
    "e93bbe79f6cf493e83f62d4f6d222c49": {
     "model_module": "@jupyter-widgets/controls",
     "model_module_version": "1.5.0",
     "model_name": "ProgressStyleModel",
     "state": {
      "_model_module": "@jupyter-widgets/controls",
      "_model_module_version": "1.5.0",
      "_model_name": "ProgressStyleModel",
      "_view_count": null,
      "_view_module": "@jupyter-widgets/base",
      "_view_module_version": "1.2.0",
      "_view_name": "StyleView",
      "bar_color": null,
      "description_width": ""
     }
    },
    "eeb864e02499431fabbab564195ad08d": {
     "model_module": "@jupyter-widgets/controls",
     "model_module_version": "1.5.0",
     "model_name": "FloatProgressModel",
     "state": {
      "_dom_classes": [],
      "_model_module": "@jupyter-widgets/controls",
      "_model_module_version": "1.5.0",
      "_model_name": "FloatProgressModel",
      "_view_count": null,
      "_view_module": "@jupyter-widgets/controls",
      "_view_module_version": "1.5.0",
      "_view_name": "ProgressView",
      "bar_style": "success",
      "description": "",
      "description_tooltip": null,
      "layout": "IPY_MODEL_4e4f623e71044474857213dfc20b2936",
      "max": 28881,
      "min": 0,
      "orientation": "horizontal",
      "style": "IPY_MODEL_e93bbe79f6cf493e83f62d4f6d222c49",
      "value": 28881
     }
    },
    "f501c5ee2a8a45cf8116222149f0e574": {
     "model_module": "@jupyter-widgets/controls",
     "model_module_version": "1.5.0",
     "model_name": "ProgressStyleModel",
     "state": {
      "_model_module": "@jupyter-widgets/controls",
      "_model_module_version": "1.5.0",
      "_model_name": "ProgressStyleModel",
      "_view_count": null,
      "_view_module": "@jupyter-widgets/base",
      "_view_module_version": "1.2.0",
      "_view_name": "StyleView",
      "bar_color": null,
      "description_width": ""
     }
    },
    "f5d47673e29e48049ca35328e34a1287": {
     "model_module": "@jupyter-widgets/base",
     "model_module_version": "1.2.0",
     "model_name": "LayoutModel",
     "state": {
      "_model_module": "@jupyter-widgets/base",
      "_model_module_version": "1.2.0",
      "_model_name": "LayoutModel",
      "_view_count": null,
      "_view_module": "@jupyter-widgets/base",
      "_view_module_version": "1.2.0",
      "_view_name": "LayoutView",
      "align_content": null,
      "align_items": null,
      "align_self": null,
      "border": null,
      "bottom": null,
      "display": null,
      "flex": null,
      "flex_flow": null,
      "grid_area": null,
      "grid_auto_columns": null,
      "grid_auto_flow": null,
      "grid_auto_rows": null,
      "grid_column": null,
      "grid_gap": null,
      "grid_row": null,
      "grid_template_areas": null,
      "grid_template_columns": null,
      "grid_template_rows": null,
      "height": null,
      "justify_content": null,
      "justify_items": null,
      "left": null,
      "margin": null,
      "max_height": null,
      "max_width": null,
      "min_height": null,
      "min_width": null,
      "object_fit": null,
      "object_position": null,
      "order": null,
      "overflow": null,
      "overflow_x": null,
      "overflow_y": null,
      "padding": null,
      "right": null,
      "top": null,
      "visibility": null,
      "width": null
     }
    },
    "fe00f6919d5743cd9d04b83cd8c2df9c": {
     "model_module": "@jupyter-widgets/base",
     "model_module_version": "1.2.0",
     "model_name": "LayoutModel",
     "state": {
      "_model_module": "@jupyter-widgets/base",
      "_model_module_version": "1.2.0",
      "_model_name": "LayoutModel",
      "_view_count": null,
      "_view_module": "@jupyter-widgets/base",
      "_view_module_version": "1.2.0",
      "_view_name": "LayoutView",
      "align_content": null,
      "align_items": null,
      "align_self": null,
      "border": null,
      "bottom": null,
      "display": null,
      "flex": null,
      "flex_flow": null,
      "grid_area": null,
      "grid_auto_columns": null,
      "grid_auto_flow": null,
      "grid_auto_rows": null,
      "grid_column": null,
      "grid_gap": null,
      "grid_row": null,
      "grid_template_areas": null,
      "grid_template_columns": null,
      "grid_template_rows": null,
      "height": null,
      "justify_content": null,
      "justify_items": null,
      "left": null,
      "margin": null,
      "max_height": null,
      "max_width": null,
      "min_height": null,
      "min_width": null,
      "object_fit": null,
      "object_position": null,
      "order": null,
      "overflow": null,
      "overflow_x": null,
      "overflow_y": null,
      "padding": null,
      "right": null,
      "top": null,
      "visibility": null,
      "width": null
     }
    },
    "fe57998bab944483ba01977714016713": {
     "model_module": "@jupyter-widgets/base",
     "model_module_version": "1.2.0",
     "model_name": "LayoutModel",
     "state": {
      "_model_module": "@jupyter-widgets/base",
      "_model_module_version": "1.2.0",
      "_model_name": "LayoutModel",
      "_view_count": null,
      "_view_module": "@jupyter-widgets/base",
      "_view_module_version": "1.2.0",
      "_view_name": "LayoutView",
      "align_content": null,
      "align_items": null,
      "align_self": null,
      "border": null,
      "bottom": null,
      "display": null,
      "flex": null,
      "flex_flow": null,
      "grid_area": null,
      "grid_auto_columns": null,
      "grid_auto_flow": null,
      "grid_auto_rows": null,
      "grid_column": null,
      "grid_gap": null,
      "grid_row": null,
      "grid_template_areas": null,
      "grid_template_columns": null,
      "grid_template_rows": null,
      "height": null,
      "justify_content": null,
      "justify_items": null,
      "left": null,
      "margin": null,
      "max_height": null,
      "max_width": null,
      "min_height": null,
      "min_width": null,
      "object_fit": null,
      "object_position": null,
      "order": null,
      "overflow": null,
      "overflow_x": null,
      "overflow_y": null,
      "padding": null,
      "right": null,
      "top": null,
      "visibility": null,
      "width": null
     }
    }
   }
  }
 },
 "nbformat": 4,
 "nbformat_minor": 1
}
